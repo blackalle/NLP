{
 "cells": [
  {
   "cell_type": "markdown",
   "metadata": {},
   "source": [
    "# Práctica de Laboratorio de Procesamiento del Lenguaje Natural (NLP)\n",
    "\n",
    "Tema: Clustering Jerárquico\n",
    "\n",
    "## Objetivo de la práctica\n",
    "\n",
    "El objetivo de esta práctica es procesar los datos de entrada dados en el \"corpus\", con el objetivo de ejecutar clustering jerárquico (utilizando `AgglomerativeClustering`) para comprobar los resultados."
   ]
  },
  {
   "cell_type": "code",
   "execution_count": null,
   "metadata": {},
   "outputs": [],
   "source": [
    "!pip install matplotlib"
   ]
  },
  {
   "cell_type": "code",
   "execution_count": 1,
   "metadata": {},
   "outputs": [],
   "source": [
    "import pandas as pd\n",
    "import numpy as np\n",
    "import re\n",
    "import nltk\n",
    "import matplotlib.pyplot as plt\n",
    "\n",
    "pd.options.display.max_colwidth = 200\n",
    "%matplotlib inline"
   ]
  },
  {
   "cell_type": "code",
   "execution_count": 2,
   "metadata": {},
   "outputs": [
    {
     "data": {
      "text/html": [
       "<div>\n",
       "<style scoped>\n",
       "    .dataframe tbody tr th:only-of-type {\n",
       "        vertical-align: middle;\n",
       "    }\n",
       "\n",
       "    .dataframe tbody tr th {\n",
       "        vertical-align: top;\n",
       "    }\n",
       "\n",
       "    .dataframe thead th {\n",
       "        text-align: right;\n",
       "    }\n",
       "</style>\n",
       "<table border=\"1\" class=\"dataframe\">\n",
       "  <thead>\n",
       "    <tr style=\"text-align: right;\">\n",
       "      <th></th>\n",
       "      <th>Documento</th>\n",
       "    </tr>\n",
       "  </thead>\n",
       "  <tbody>\n",
       "    <tr>\n",
       "      <th>0</th>\n",
       "      <td>El cielo es azul y luminoso.</td>\n",
       "    </tr>\n",
       "    <tr>\n",
       "      <th>1</th>\n",
       "      <td>¡Me encanta este cielo azul y luminoso!</td>\n",
       "    </tr>\n",
       "    <tr>\n",
       "      <th>2</th>\n",
       "      <td>El zorro marrón es rápido y salta sobre el perro que es dormilón.</td>\n",
       "    </tr>\n",
       "    <tr>\n",
       "      <th>3</th>\n",
       "      <td>Un desayuno real tiene salchichas, jamón, bacon, huevos, tostadas y queso</td>\n",
       "    </tr>\n",
       "    <tr>\n",
       "      <th>4</th>\n",
       "      <td>¡Me encanta el jamón, los huevos, las salchichas y el bacon!</td>\n",
       "    </tr>\n",
       "    <tr>\n",
       "      <th>5</th>\n",
       "      <td>¡El zorro marrón es rápido, y el perro azul es un dormilón!</td>\n",
       "    </tr>\n",
       "    <tr>\n",
       "      <th>6</th>\n",
       "      <td>El cielo es azul intenso y hoy está muy luminoso</td>\n",
       "    </tr>\n",
       "    <tr>\n",
       "      <th>7</th>\n",
       "      <td>¡El perro es un dormilón, pero el zorro es mu rápido!</td>\n",
       "    </tr>\n",
       "  </tbody>\n",
       "</table>\n",
       "</div>"
      ],
      "text/plain": [
       "                                                                   Documento\n",
       "0                                               El cielo es azul y luminoso.\n",
       "1                                    ¡Me encanta este cielo azul y luminoso!\n",
       "2          El zorro marrón es rápido y salta sobre el perro que es dormilón.\n",
       "3  Un desayuno real tiene salchichas, jamón, bacon, huevos, tostadas y queso\n",
       "4               ¡Me encanta el jamón, los huevos, las salchichas y el bacon!\n",
       "5                ¡El zorro marrón es rápido, y el perro azul es un dormilón!\n",
       "6                           El cielo es azul intenso y hoy está muy luminoso\n",
       "7                      ¡El perro es un dormilón, pero el zorro es mu rápido!"
      ]
     },
     "execution_count": 2,
     "metadata": {},
     "output_type": "execute_result"
    }
   ],
   "source": [
    "corpus = ['El cielo es azul y luminoso.',\n",
    "          '¡Me encanta este cielo azul y luminoso!',\n",
    "          'El zorro marrón es rápido y salta sobre el perro que es dormilón.',\n",
    "          'Un desayuno real tiene salchichas, jamón, bacon, huevos, tostadas y queso',\n",
    "          '¡Me encanta el jamón, los huevos, las salchichas y el bacon!',\n",
    "          '¡El zorro marrón es rápido, y el perro azul es un dormilón!',\n",
    "          'El cielo es azul intenso y hoy está muy luminoso',\n",
    "          '¡El perro es un dormilón, pero el zorro es mu rápido!'\n",
    "]\n",
    "labels = ['tiempo', 'tiempo', 'animales', 'alimentos', 'alimentos', 'animales', 'tiempo', 'animales']\n",
    "\n",
    "corpus = np.array(corpus)\n",
    "corpus_df = pd.DataFrame({'Documento': corpus}) \n",
    "\n",
    "corpus_df"
   ]
  },
  {
   "cell_type": "markdown",
   "metadata": {},
   "source": [
    "# Pre-procesamiento\n",
    "\n",
    "Para poder clusterizar los textos con mayor facilidad, es necesario que se queden las palabras que contengan significado de cada texto. Por ello, preprocesa los textos para eliminar los caracteres especiales, unificarlo en minúsculas, eliminar espacios extra (utiliza `strip()` para esto) y eliminar las stopwords."
   ]
  },
  {
   "cell_type": "code",
   "execution_count": 6,
   "metadata": {},
   "outputs": [
    {
     "name": "stderr",
     "output_type": "stream",
     "text": [
      "[nltk_data] Downloading package stopwords to\n",
      "[nltk_data]     /home/codespace/nltk_data...\n",
      "[nltk_data]   Package stopwords is already up-to-date!\n"
     ]
    },
    {
     "name": "stdout",
     "output_type": "stream",
     "text": [
      "Textos preprocesados:\n",
      "0                                          cielo azul luminoso\n",
      "1                                  encanta cielo azul luminoso\n",
      "2                        zorro marrn rpido salta perro dormiln\n",
      "3    desayuno real salchichas jamn bacon huevos tostadas queso\n",
      "4                         encanta jamn huevos salchichas bacon\n",
      "Name: contenido_procesado, dtype: object\n"
     ]
    }
   ],
   "source": [
    "import spacy\n",
    "import pandas as pd\n",
    "import re\n",
    "from nltk.corpus import stopwords\n",
    "\n",
    "# Descargar las stopwords en español de nltk\n",
    "import nltk\n",
    "nltk.download('stopwords')\n",
    "\n",
    "# Cargar el modelo de lenguaje en español\n",
    "nlp = spacy.load(\"es_core_news_sm\")\n",
    "\n",
    "\n",
    "# Función de preprocesamiento\n",
    "def preprocesar_texto(texto):\n",
    "    # Eliminar caracteres especiales y convertir a minúsculas\n",
    "    texto = re.sub(r'[^a-zA-Z\\s]', '', texto)\n",
    "    texto = texto.lower()\n",
    "    \n",
    "    # Eliminar espacios extra\n",
    "    texto = texto.strip()\n",
    "    \n",
    "    # Tokenizar y eliminar stopwords con spaCy\n",
    "    doc = nlp(texto)\n",
    "    tokens_sin_stopwords = [token.text for token in doc if not token.is_stop]\n",
    "    \n",
    "    # Unir los tokens procesados en un solo texto\n",
    "    texto_procesado = ' '.join(tokens_sin_stopwords)\n",
    "    \n",
    "    return texto_procesado\n",
    "\n",
    "# Aplicar preprocesamiento a cada noticia en el DataFrame\n",
    "corpus_df['contenido_procesado'] = corpus_df['Documento'].apply(preprocesar_texto)\n",
    "\n",
    "# Mostrar los primeros textos preprocesados para verificar\n",
    "print(\"Textos preprocesados:\")\n",
    "print(corpus_df['contenido_procesado'].head())\n"
   ]
  },
  {
   "cell_type": "markdown",
   "metadata": {},
   "source": [
    "# Generación de las matrices\n",
    "\n",
    "Genera BOW, TFIDF & Bag Of N-grams; se utilizarán para comparar los resultados."
   ]
  },
  {
   "cell_type": "code",
   "execution_count": 7,
   "metadata": {},
   "outputs": [
    {
     "name": "stdout",
     "output_type": "stream",
     "text": [
      "BOW:\n",
      "Texto 1:\n",
      "[('luminoso', 1), ('cielo', 1), ('azul', 1), ('salchichas', 0), ('rpido', 0), ('bacon', 0), ('salta', 0), ('desayuno', 0), ('dormiln', 0), ('encanta', 0)]\n",
      "==============================\n",
      "Texto 2:\n",
      "[('luminoso', 1), ('encanta', 1), ('cielo', 1), ('azul', 1), ('rpido', 0), ('huevos', 0), ('bacon', 0), ('salta', 0), ('desayuno', 0), ('dormiln', 0)]\n",
      "==============================\n",
      "Texto 3:\n",
      "[('zorro', 1), ('salta', 1), ('rpido', 1), ('perro', 1), ('dormiln', 1), ('marrn', 1), ('huevos', 0), ('bacon', 0), ('cielo', 0), ('desayuno', 0)]\n",
      "==============================\n",
      "Texto 4:\n",
      "[('huevos', 1), ('bacon', 1), ('salchichas', 1), ('real', 1), ('queso', 1), ('desayuno', 1), ('tostadas', 1), ('jamn', 1), ('zorro', 0), ('cielo', 0)]\n",
      "==============================\n",
      "Texto 5:\n",
      "[('jamn', 1), ('bacon', 1), ('salchichas', 1), ('encanta', 1), ('huevos', 1), ('zorro', 0), ('cielo', 0), ('desayuno', 0), ('dormiln', 0), ('est', 0)]\n",
      "==============================\n",
      "Texto 6:\n",
      "[('zorro', 1), ('perro', 1), ('dormiln', 1), ('marrn', 1), ('azul', 1), ('rpido', 1), ('real', 0), ('queso', 0), ('mu', 0), ('salchichas', 0)]\n",
      "==============================\n",
      "Texto 7:\n",
      "[('luminoso', 1), ('intenso', 1), ('cielo', 1), ('est', 1), ('azul', 1), ('real', 0), ('queso', 0), ('perro', 0), ('mu', 0), ('marrn', 0)]\n",
      "==============================\n",
      "Texto 8:\n",
      "[('zorro', 1), ('rpido', 1), ('dormiln', 1), ('perro', 1), ('mu', 1), ('intenso', 0), ('bacon', 0), ('cielo', 0), ('desayuno', 0), ('encanta', 0)]\n",
      "==============================\n",
      "\n",
      "TF-IDF:\n",
      "Texto 1:\n",
      "[('luminoso', 0.600978201166947), ('cielo', 0.600978201166947), ('azul', 0.5269254249362817), ('salchichas', 0.0), ('rpido', 0.0), ('bacon', 0.0), ('salta', 0.0), ('desayuno', 0.0), ('dormiln', 0.0), ('encanta', 0.0)]\n",
      "==============================\n",
      "Texto 2:\n",
      "[('encanta', 0.5715049507369838), ('luminoso', 0.4931618811131931), ('cielo', 0.4931618811131931), ('azul', 0.4323942753054339), ('rpido', 0.0), ('huevos', 0.0), ('bacon', 0.0), ('salta', 0.0), ('desayuno', 0.0), ('dormiln', 0.0)]\n",
      "==============================\n",
      "Texto 3:\n",
      "[('salta', 0.5133672553169809), ('marrn', 0.4302418255901423), ('zorro', 0.37126339460050833), ('rpido', 0.37126339460050833), ('perro', 0.37126339460050833), ('dormiln', 0.37126339460050833), ('huevos', 0.0), ('bacon', 0.0), ('cielo', 0.0), ('desayuno', 0.0)]\n",
      "==============================\n",
      "Texto 4:\n",
      "[('real', 0.3832149224542694), ('queso', 0.3832149224542694), ('desayuno', 0.3832149224542694), ('tostadas', 0.3832149224542694), ('huevos', 0.3211640129410023), ('bacon', 0.3211640129410023), ('salchichas', 0.3211640129410023), ('jamn', 0.3211640129410023), ('zorro', 0.0), ('cielo', 0.0)]\n",
      "==============================\n",
      "Texto 5:\n",
      "[('jamn', 0.4472135954999579), ('bacon', 0.4472135954999579), ('salchichas', 0.4472135954999579), ('encanta', 0.4472135954999579), ('huevos', 0.4472135954999579), ('zorro', 0.0), ('cielo', 0.0), ('desayuno', 0.0), ('dormiln', 0.0), ('est', 0.0)]\n",
      "==============================\n",
      "Texto 6:\n",
      "[('marrn', 0.46875900512624175), ('zorro', 0.40450056024658393), ('perro', 0.40450056024658393), ('dormiln', 0.40450056024658393), ('rpido', 0.40450056024658393), ('azul', 0.35465783813960033), ('queso', 0.0), ('real', 0.0), ('mu', 0.0), ('salchichas', 0.0)]\n",
      "==============================\n",
      "Texto 7:\n",
      "[('intenso', 0.5385323116139396), ('est', 0.5385323116139396), ('luminoso', 0.38946257682211877), ('cielo', 0.38946257682211877), ('azul', 0.3414728410952236), ('real', 0.0), ('queso', 0.0), ('perro', 0.0), ('mu', 0.0), ('marrn', 0.0)]\n",
      "==============================\n",
      "Texto 8:\n",
      "[('mu', 0.5686933430862712), ('zorro', 0.41127481126655474), ('rpido', 0.41127481126655474), ('dormiln', 0.41127481126655474), ('perro', 0.41127481126655474), ('intenso', 0.0), ('bacon', 0.0), ('cielo', 0.0), ('desayuno', 0.0), ('encanta', 0.0)]\n",
      "==============================\n",
      "\n",
      "Bag of N-grams:\n",
      "Texto 1:\n",
      "[('azul', 1), ('luminoso', 1), ('azul luminoso', 1), ('cielo', 1), ('cielo azul', 1), ('encanta cielo', 0), ('intenso est', 0), ('intenso', 0), ('huevos tostadas', 0), ('huevos salchichas', 0)]\n",
      "==============================\n",
      "Texto 2:\n",
      "[('azul', 1), ('luminoso', 1), ('azul luminoso', 1), ('cielo', 1), ('cielo azul', 1), ('encanta', 1), ('encanta cielo', 1), ('encanta jamn', 0), ('intenso est', 0), ('intenso', 0)]\n",
      "==============================\n",
      "Texto 3:\n",
      "[('dormiln', 1), ('marrn rpido', 1), ('zorro', 1), ('perro dormiln', 1), ('salta perro', 1), ('salta', 1), ('zorro marrn', 1), ('perro', 1), ('rpido salta', 1), ('marrn', 1)]\n",
      "==============================\n",
      "Texto 4:\n",
      "[('real', 1), ('bacon', 1), ('desayuno real', 1), ('desayuno', 1), ('queso', 1), ('huevos tostadas', 1), ('real salchichas', 1), ('salchichas', 1), ('bacon huevos', 1), ('salchichas jamn', 1)]\n",
      "==============================\n",
      "Texto 5:\n",
      "[('jamn huevos', 1), ('encanta', 1), ('huevos salchichas', 1), ('bacon', 1), ('huevos', 1), ('salchichas bacon', 1), ('salchichas', 1), ('encanta jamn', 1), ('jamn', 1), ('intenso', 0)]\n",
      "==============================\n",
      "Texto 6:\n",
      "[('azul', 1), ('rpido perro', 1), ('zorro marrn', 1), ('marrn', 1), ('marrn rpido', 1), ('perro', 1), ('perro azul', 1), ('rpido', 1), ('dormiln', 1), ('zorro', 1)]\n",
      "==============================\n",
      "Texto 7:\n",
      "[('azul', 1), ('luminoso', 1), ('azul intenso', 1), ('intenso est', 1), ('intenso', 1), ('cielo', 1), ('cielo azul', 1), ('est luminoso', 1), ('est', 1), ('encanta cielo', 0)]\n",
      "==============================\n",
      "Texto 8:\n",
      "[('zorro mu', 1), ('rpido', 1), ('mu', 1), ('mu rpido', 1), ('perro', 1), ('perro dormiln', 1), ('dormiln zorro', 1), ('dormiln', 1), ('zorro', 1), ('cielo', 0)]\n",
      "==============================\n"
     ]
    }
   ],
   "source": [
    "from sklearn.feature_extraction.text import CountVectorizer, TfidfVectorizer\n",
    "\n",
    "# Función para imprimir las primeras N características de cada representación\n",
    "def imprimir_primeras_caracteristicas(matrix, feature_names, N=10):\n",
    "    for i, row in enumerate(matrix):\n",
    "        print(f\"Texto {i + 1}:\")\n",
    "        top_features_idx = row.argsort()[-N:][::-1]\n",
    "        top_features = [(feature_names[idx], row[idx]) for idx in top_features_idx]\n",
    "        print(top_features)\n",
    "        print(\"=\"*30)\n",
    "\n",
    "# Representación Bag of Words (BOW)\n",
    "vectorizer_bow = CountVectorizer()\n",
    "bow_matrix = vectorizer_bow.fit_transform(corpus_df['contenido_procesado'])\n",
    "bow_feature_names = vectorizer_bow.get_feature_names_out()\n",
    "\n",
    "# Representación TF-IDF\n",
    "vectorizer_tfidf = TfidfVectorizer()\n",
    "tfidf_matrix = vectorizer_tfidf.fit_transform(corpus_df['contenido_procesado'])\n",
    "tfidf_feature_names = vectorizer_tfidf.get_feature_names_out()\n",
    "\n",
    "# Representación Bag of N-grams (unigrams y bigrams)\n",
    "vectorizer_ngrams = CountVectorizer(ngram_range=(1, 2))\n",
    "ngrams_matrix = vectorizer_ngrams.fit_transform(corpus_df['contenido_procesado'])\n",
    "ngrams_feature_names = vectorizer_ngrams.get_feature_names_out()\n",
    "\n",
    "# Imprimir las primeras características de cada representación\n",
    "print(\"BOW:\")\n",
    "imprimir_primeras_caracteristicas(bow_matrix.toarray(), bow_feature_names)\n",
    "\n",
    "print(\"\\nTF-IDF:\")\n",
    "imprimir_primeras_caracteristicas(tfidf_matrix.toarray(), tfidf_feature_names)\n",
    "\n",
    "print(\"\\nBag of N-grams:\")\n",
    "imprimir_primeras_caracteristicas(ngrams_matrix.toarray(), ngrams_feature_names)\n"
   ]
  },
  {
   "cell_type": "code",
   "execution_count": 10,
   "metadata": {},
   "outputs": [
    {
     "name": "stdout",
     "output_type": "stream",
     "text": [
      "BOW:\n",
      "Texto 1:\n",
      "[('luminoso', 1), ('cielo', 1), ('azul', 1), ('salchichas', 0), ('rpido', 0), ('bacon', 0), ('salta', 0), ('desayuno', 0), ('dormiln', 0), ('encanta', 0)]\n",
      "==============================\n",
      "Texto 2:\n",
      "[('luminoso', 1), ('encanta', 1), ('cielo', 1), ('azul', 1), ('rpido', 0), ('huevos', 0), ('bacon', 0), ('salta', 0), ('desayuno', 0), ('dormiln', 0)]\n",
      "==============================\n",
      "Texto 3:\n",
      "[('zorro', 1), ('salta', 1), ('rpido', 1), ('perro', 1), ('dormiln', 1), ('marrn', 1), ('huevos', 0), ('bacon', 0), ('cielo', 0), ('desayuno', 0)]\n",
      "==============================\n",
      "Texto 4:\n",
      "[('huevos', 1), ('bacon', 1), ('salchichas', 1), ('real', 1), ('queso', 1), ('desayuno', 1), ('tostadas', 1), ('jamn', 1), ('zorro', 0), ('cielo', 0)]\n",
      "==============================\n",
      "Texto 5:\n",
      "[('jamn', 1), ('bacon', 1), ('salchichas', 1), ('encanta', 1), ('huevos', 1), ('zorro', 0), ('cielo', 0), ('desayuno', 0), ('dormiln', 0), ('est', 0)]\n",
      "==============================\n",
      "Texto 6:\n",
      "[('zorro', 1), ('perro', 1), ('dormiln', 1), ('marrn', 1), ('azul', 1), ('rpido', 1), ('real', 0), ('queso', 0), ('mu', 0), ('salchichas', 0)]\n",
      "==============================\n",
      "Texto 7:\n",
      "[('luminoso', 1), ('intenso', 1), ('cielo', 1), ('est', 1), ('azul', 1), ('real', 0), ('queso', 0), ('perro', 0), ('mu', 0), ('marrn', 0)]\n",
      "==============================\n",
      "Texto 8:\n",
      "[('zorro', 1), ('rpido', 1), ('dormiln', 1), ('perro', 1), ('mu', 1), ('intenso', 0), ('bacon', 0), ('cielo', 0), ('desayuno', 0), ('encanta', 0)]\n",
      "==============================\n"
     ]
    }
   ],
   "source": [
    "from sklearn.feature_extraction.text import CountVectorizer\n",
    "\n",
    "# Función para imprimir las primeras N características de cada representación\n",
    "def imprimir_primeras_caracteristicas(matrix, feature_names, N=10):\n",
    "    for i, row in enumerate(matrix):\n",
    "        print(f\"Texto {i + 1}:\")\n",
    "        top_features_idx = row.argsort()[-N:][::-1]\n",
    "        top_features = [(feature_names[idx], row[idx]) for idx in top_features_idx]\n",
    "        print(top_features)\n",
    "        print(\"=\"*30)\n",
    "\n",
    "# Representación Bag of Words (BOW)\n",
    "vectorizer_bow = CountVectorizer()\n",
    "bow_matrix = vectorizer_bow.fit_transform(corpus_df['contenido_procesado'])\n",
    "bow_feature_names = vectorizer_bow.get_feature_names_out()\n",
    "\n",
    "# Imprimir las primeras características de la representación BOW\n",
    "print(\"BOW:\")\n",
    "imprimir_primeras_caracteristicas(bow_matrix.toarray(), bow_feature_names)"
   ]
  },
  {
   "cell_type": "markdown",
   "metadata": {},
   "source": [
    "# Bag of N-Grams Model"
   ]
  },
  {
   "cell_type": "code",
   "execution_count": 11,
   "metadata": {},
   "outputs": [
    {
     "name": "stdout",
     "output_type": "stream",
     "text": [
      "Bag of N-grams:\n",
      "Texto 1:\n",
      "[('azul', 1), ('luminoso', 1), ('azul luminoso', 1), ('cielo', 1), ('cielo azul', 1), ('encanta cielo', 0), ('intenso est', 0), ('intenso', 0), ('huevos tostadas', 0), ('huevos salchichas', 0)]\n",
      "==============================\n",
      "Texto 2:\n",
      "[('azul', 1), ('luminoso', 1), ('azul luminoso', 1), ('cielo', 1), ('cielo azul', 1), ('encanta', 1), ('encanta cielo', 1), ('encanta jamn', 0), ('intenso est', 0), ('intenso', 0)]\n",
      "==============================\n",
      "Texto 3:\n",
      "[('dormiln', 1), ('marrn rpido', 1), ('zorro', 1), ('perro dormiln', 1), ('salta perro', 1), ('salta', 1), ('zorro marrn', 1), ('perro', 1), ('rpido salta', 1), ('marrn', 1)]\n",
      "==============================\n",
      "Texto 4:\n",
      "[('real', 1), ('bacon', 1), ('desayuno real', 1), ('desayuno', 1), ('queso', 1), ('huevos tostadas', 1), ('real salchichas', 1), ('salchichas', 1), ('bacon huevos', 1), ('salchichas jamn', 1)]\n",
      "==============================\n",
      "Texto 5:\n",
      "[('jamn huevos', 1), ('encanta', 1), ('huevos salchichas', 1), ('bacon', 1), ('huevos', 1), ('salchichas bacon', 1), ('salchichas', 1), ('encanta jamn', 1), ('jamn', 1), ('intenso', 0)]\n",
      "==============================\n",
      "Texto 6:\n",
      "[('azul', 1), ('rpido perro', 1), ('zorro marrn', 1), ('marrn', 1), ('marrn rpido', 1), ('perro', 1), ('perro azul', 1), ('rpido', 1), ('dormiln', 1), ('zorro', 1)]\n",
      "==============================\n",
      "Texto 7:\n",
      "[('azul', 1), ('luminoso', 1), ('azul intenso', 1), ('intenso est', 1), ('intenso', 1), ('cielo', 1), ('cielo azul', 1), ('est luminoso', 1), ('est', 1), ('encanta cielo', 0)]\n",
      "==============================\n",
      "Texto 8:\n",
      "[('zorro mu', 1), ('rpido', 1), ('mu', 1), ('mu rpido', 1), ('perro', 1), ('perro dormiln', 1), ('dormiln zorro', 1), ('dormiln', 1), ('zorro', 1), ('cielo', 0)]\n",
      "==============================\n"
     ]
    }
   ],
   "source": [
    "\n",
    "# Representación Bag of N-grams (unigrams y bigrams)\n",
    "vectorizer_ngrams = CountVectorizer(ngram_range=(1, 2))\n",
    "ngrams_matrix = vectorizer_ngrams.fit_transform(corpus_df['contenido_procesado'])\n",
    "ngrams_feature_names = vectorizer_ngrams.get_feature_names_out()\n",
    "\n",
    "# Imprimir las primeras características de la representación Bag of N-grams\n",
    "print(\"Bag of N-grams:\")\n",
    "imprimir_primeras_caracteristicas(ngrams_matrix.toarray(), ngrams_feature_names)"
   ]
  },
  {
   "cell_type": "markdown",
   "metadata": {},
   "source": [
    "# TF-IDF Model"
   ]
  },
  {
   "cell_type": "code",
   "execution_count": 12,
   "metadata": {},
   "outputs": [
    {
     "name": "stdout",
     "output_type": "stream",
     "text": [
      "TF-IDF:\n",
      "Texto 1:\n",
      "[('luminoso', 0.600978201166947), ('cielo', 0.600978201166947), ('azul', 0.5269254249362817), ('salchichas', 0.0), ('rpido', 0.0), ('bacon', 0.0), ('salta', 0.0), ('desayuno', 0.0), ('dormiln', 0.0), ('encanta', 0.0)]\n",
      "==============================\n",
      "Texto 2:\n",
      "[('encanta', 0.5715049507369838), ('luminoso', 0.4931618811131931), ('cielo', 0.4931618811131931), ('azul', 0.4323942753054339), ('rpido', 0.0), ('huevos', 0.0), ('bacon', 0.0), ('salta', 0.0), ('desayuno', 0.0), ('dormiln', 0.0)]\n",
      "==============================\n",
      "Texto 3:\n",
      "[('salta', 0.5133672553169809), ('marrn', 0.4302418255901423), ('zorro', 0.37126339460050833), ('rpido', 0.37126339460050833), ('perro', 0.37126339460050833), ('dormiln', 0.37126339460050833), ('huevos', 0.0), ('bacon', 0.0), ('cielo', 0.0), ('desayuno', 0.0)]\n",
      "==============================\n",
      "Texto 4:\n",
      "[('real', 0.3832149224542694), ('queso', 0.3832149224542694), ('desayuno', 0.3832149224542694), ('tostadas', 0.3832149224542694), ('huevos', 0.3211640129410023), ('bacon', 0.3211640129410023), ('salchichas', 0.3211640129410023), ('jamn', 0.3211640129410023), ('zorro', 0.0), ('cielo', 0.0)]\n",
      "==============================\n",
      "Texto 5:\n",
      "[('jamn', 0.4472135954999579), ('bacon', 0.4472135954999579), ('salchichas', 0.4472135954999579), ('encanta', 0.4472135954999579), ('huevos', 0.4472135954999579), ('zorro', 0.0), ('cielo', 0.0), ('desayuno', 0.0), ('dormiln', 0.0), ('est', 0.0)]\n",
      "==============================\n",
      "Texto 6:\n",
      "[('marrn', 0.46875900512624175), ('zorro', 0.40450056024658393), ('perro', 0.40450056024658393), ('dormiln', 0.40450056024658393), ('rpido', 0.40450056024658393), ('azul', 0.35465783813960033), ('queso', 0.0), ('real', 0.0), ('mu', 0.0), ('salchichas', 0.0)]\n",
      "==============================\n",
      "Texto 7:\n",
      "[('intenso', 0.5385323116139396), ('est', 0.5385323116139396), ('luminoso', 0.38946257682211877), ('cielo', 0.38946257682211877), ('azul', 0.3414728410952236), ('real', 0.0), ('queso', 0.0), ('perro', 0.0), ('mu', 0.0), ('marrn', 0.0)]\n",
      "==============================\n",
      "Texto 8:\n",
      "[('mu', 0.5686933430862712), ('zorro', 0.41127481126655474), ('rpido', 0.41127481126655474), ('dormiln', 0.41127481126655474), ('perro', 0.41127481126655474), ('intenso', 0.0), ('bacon', 0.0), ('cielo', 0.0), ('desayuno', 0.0), ('encanta', 0.0)]\n",
      "==============================\n"
     ]
    }
   ],
   "source": [
    "# Representación TF-IDF\n",
    "vectorizer_tfidf = TfidfVectorizer()\n",
    "tfidf_matrix = vectorizer_tfidf.fit_transform(corpus_df['contenido_procesado'])\n",
    "tfidf_feature_names = vectorizer_tfidf.get_feature_names_out()\n",
    "\n",
    "# Imprimir las primeras características de la representación TF-IDF\n",
    "print(\"TF-IDF:\")\n",
    "imprimir_primeras_caracteristicas(tfidf_matrix.toarray(), tfidf_feature_names)"
   ]
  },
  {
   "cell_type": "code",
   "execution_count": null,
   "metadata": {},
   "outputs": [],
   "source": []
  },
  {
   "cell_type": "markdown",
   "metadata": {},
   "source": [
    "# Similitud entre documentos\n",
    "\n",
    "Calcula la similitud entre documentos con una de las matrices que has generado. Utiliza `cosine_similarity()`. Con este cálculo, se podrá lanzar un clustering jerárquico que, en función de estas distancias, localizará cada texto en uno de los clusters."
   ]
  },
  {
   "cell_type": "code",
   "execution_count": 19,
   "metadata": {},
   "outputs": [
    {
     "data": {
      "text/plain": [
       "array([[1.        , 0.82059862, 0.        , 0.        , 0.        ,\n",
       "        0.18687823, 0.64804776, 0.        ],\n",
       "       [0.82059862, 1.        , 0.        , 0.        , 0.25558478,\n",
       "        0.15335202, 0.5317871 , 0.        ],\n",
       "       [0.        , 0.        , 1.        , 0.        , 0.        ,\n",
       "        0.80238473, 0.        , 0.61076513],\n",
       "       [0.        , 0.        , 0.        , 1.        , 0.57451565,\n",
       "        0.        , 0.        , 0.        ],\n",
       "       [0.        , 0.25558478, 0.        , 0.57451565, 1.        ,\n",
       "        0.        , 0.        , 0.        ],\n",
       "       [0.18687823, 0.15335202, 0.80238473, 0.        , 0.        ,\n",
       "        1.        , 0.12110602, 0.66544357],\n",
       "       [0.64804776, 0.5317871 , 0.        , 0.        , 0.        ,\n",
       "        0.12110602, 1.        , 0.        ],\n",
       "       [0.        , 0.        , 0.61076513, 0.        , 0.        ,\n",
       "        0.66544357, 0.        , 1.        ]])"
      ]
     },
     "execution_count": 19,
     "metadata": {},
     "output_type": "execute_result"
    }
   ],
   "source": [
    "from sklearn.metrics.pairwise import cosine_similarity\n",
    "from sklearn.cluster import AgglomerativeClustering\n",
    "\n",
    "# Calcular la similitud de coseno entre documentos usando la matriz TF-IDF\n",
    "similarity_matrix = cosine_similarity(tfidf_matrix)\n",
    "similarity_matrix\n",
    "\n",
    "\n"
   ]
  },
  {
   "cell_type": "markdown",
   "metadata": {},
   "source": [
    "# Clustering jerárquico\n",
    "\n",
    "Utiliza `AgglomerativeClustering()`para calcular a qué cluster pertenecería cada texto. Configura que el número de clusters sea 4.\n",
    "\n",
    "Representa en un dendograma los clusters jerárquicos obtenidos."
   ]
  },
  {
   "cell_type": "code",
   "execution_count": 18,
   "metadata": {},
   "outputs": [
    {
     "name": "stderr",
     "output_type": "stream",
     "text": [
      "/home/codespace/.local/lib/python3.10/site-packages/sklearn/cluster/_agglomerative.py:1005: FutureWarning: Attribute `affinity` was deprecated in version 1.2 and will be removed in 1.4. Use `metric` instead\n",
      "  warnings.warn(\n"
     ]
    },
    {
     "data": {
      "image/png": "[encoded data removed]",
      "text/plain": [
       "<Figure size 1200x600 with 1 Axes>"
      ]
     },
     "metadata": {},
     "output_type": "display_data"
    },
    {
     "name": "stdout",
     "output_type": "stream",
     "text": [
      "Resultados del Clustering Jerárquico:\n",
      "\n",
      "Cluster 1:\n",
      "0                        El cielo es azul y luminoso.\n",
      "1             ¡Me encanta este cielo azul y luminoso!\n",
      "6    El cielo es azul intenso y hoy está muy luminoso\n",
      "Name: Documento, dtype: object\n",
      "==================================================\n",
      "\n",
      "Cluster 2:\n",
      "4    ¡Me encanta el jamón, los huevos, las salchichas y el bacon!\n",
      "Name: Documento, dtype: object\n",
      "==================================================\n",
      "\n",
      "Cluster 3:\n",
      "2    El zorro marrón es rápido y salta sobre el perro que es dormilón.\n",
      "5          ¡El zorro marrón es rápido, y el perro azul es un dormilón!\n",
      "7                ¡El perro es un dormilón, pero el zorro es mu rápido!\n",
      "Name: Documento, dtype: object\n",
      "==================================================\n",
      "\n",
      "Cluster 4:\n",
      "3    Un desayuno real tiene salchichas, jamón, bacon, huevos, tostadas y queso\n",
      "Name: Documento, dtype: object\n",
      "==================================================\n"
     ]
    }
   ],
   "source": [
    "from sklearn.cluster import AgglomerativeClustering\n",
    "from scipy.cluster.hierarchy import dendrogram, linkage\n",
    "import matplotlib.pyplot as plt\n",
    "\n",
    "# Realizar clustering jerárquico\n",
    "num_clusters = 4\n",
    "clustering = AgglomerativeClustering(n_clusters=num_clusters, affinity='cosine', linkage='average')\n",
    "cluster_labels = clustering.fit_predict(similarity_matrix)\n",
    "\n",
    "# Agregar etiquetas de cluster al DataFrame\n",
    "corpus_df['cluster'] = cluster_labels\n",
    "\n",
    "# Calcular las distancias entre los clusters para el dendrograma\n",
    "distances = linkage(similarity_matrix, method='average', metric='cosine')\n",
    "\n",
    "# Representar el dendrograma\n",
    "plt.figure(figsize=(12, 6))\n",
    "dendrogram(distances, labels=corpus_df.index, orientation='top', leaf_font_size=10)\n",
    "plt.title('Dendrograma del Clustering Jerárquico')\n",
    "plt.xlabel('Índice del Texto')\n",
    "plt.ylabel('Distancia')\n",
    "plt.show()\n",
    "\n",
    "# Mostrar resultados\n",
    "print(\"Resultados del Clustering Jerárquico:\")\n",
    "for cluster in range(num_clusters):\n",
    "    print(f\"\\nCluster {cluster + 1}:\")\n",
    "    print(corpus_df[corpus_df['cluster'] == cluster]['Documento'])\n",
    "    print(\"=\"*50)\n"
   ]
  },
  {
   "cell_type": "code",
   "execution_count": null,
   "metadata": {},
   "outputs": [],
   "source": []
  }
 ],
 "metadata": {
  "anaconda-cloud": {},
  "kernelspec": {
   "display_name": "Python 3",
   "language": "python",
   "name": "python3"
  },
  "language_info": {
   "codemirror_mode": {
    "name": "ipython",
    "version": 3
   },
   "file_extension": ".py",
   "mimetype": "text/x-python",
   "name": "python",
   "nbconvert_exporter": "python",
   "pygments_lexer": "ipython3",
   "version": "3.10.13"
  },
  "varInspector": {
   "cols": {
    "lenName": 16,
    "lenType": 16,
    "lenVar": 40
   },
   "kernels_config": {
    "python": {
     "delete_cmd_postfix": "",
     "delete_cmd_prefix": "del ",
     "library": "var_list.py",
     "varRefreshCmd": "print(var_dic_list())"
    },
    "r": {
     "delete_cmd_postfix": ") ",
     "delete_cmd_prefix": "rm(",
     "library": "var_list.r",
     "varRefreshCmd": "cat(var_dic_list()) "
    }
   },
   "oldHeight": 122.855364,
   "position": {
    "height": "40px",
    "left": "906.636px",
    "right": "20px",
    "top": "43px",
    "width": "250px"
   },
   "types_to_exclude": [
    "module",
    "function",
    "builtin_function_or_method",
    "instance",
    "_Feature"
   ],
   "varInspector_section_display": "none",
   "window_display": true
  },
  "vscode": {
   "interpreter": {
    "hash": "107fb03afb2754bdb3cdbb13c1c83d7d6037442339c22e5ee8cf40869e8513c5"
   }
  }
 },
 "nbformat": 4,
 "nbformat_minor": 4
}
