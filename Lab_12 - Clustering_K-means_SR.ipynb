{
 "cells": [
  {
   "cell_type": "markdown",
   "metadata": {},
   "source": [
    "# Práctica de Laboratorio de Procesamiento del Lenguaje Natural (NLP)\n",
    "\n",
    "Tema: Clustering divisivo mediante K-means\n",
    "\n",
    "## Objetivo de la práctica\n",
    "\n",
    "El objetivo de esta práctica es procesar los datos de entrada dados en el \"corpus\", con el objetivo de ejecutar clustering divisivo (utilizando `K-means`) para comprobar los resultados.\n",
    "\n"
   ]
  },
  {
   "cell_type": "code",
   "execution_count": 1,
   "metadata": {},
   "outputs": [],
   "source": [
    "import pandas as pd\n",
    "import numpy as np\n",
    "import nltk\n",
    "import re\n",
    "\n",
    "pd.options.display.max_colwidth = 200\n",
    "%matplotlib inline"
   ]
  },
  {
   "cell_type": "markdown",
   "metadata": {},
   "source": [
    "## Corpus de documentos"
   ]
  },
  {
   "cell_type": "code",
   "execution_count": 7,
   "metadata": {},
   "outputs": [
    {
     "data": {
      "text/html": [
       "<div>\n",
       "<style scoped>\n",
       "    .dataframe tbody tr th:only-of-type {\n",
       "        vertical-align: middle;\n",
       "    }\n",
       "\n",
       "    .dataframe tbody tr th {\n",
       "        vertical-align: top;\n",
       "    }\n",
       "\n",
       "    .dataframe thead th {\n",
       "        text-align: right;\n",
       "    }\n",
       "</style>\n",
       "<table border=\"1\" class=\"dataframe\">\n",
       "  <thead>\n",
       "    <tr style=\"text-align: right;\">\n",
       "      <th></th>\n",
       "      <th>Documento</th>\n",
       "    </tr>\n",
       "  </thead>\n",
       "  <tbody>\n",
       "    <tr>\n",
       "      <th>0</th>\n",
       "      <td>El cielo es azul y luminoso.</td>\n",
       "    </tr>\n",
       "    <tr>\n",
       "      <th>1</th>\n",
       "      <td>¡Me encanta este cielo azul y luminoso!</td>\n",
       "    </tr>\n",
       "    <tr>\n",
       "      <th>2</th>\n",
       "      <td>El zorro marrón es rápido y salta sobre el perro que es dormilón.</td>\n",
       "    </tr>\n",
       "    <tr>\n",
       "      <th>3</th>\n",
       "      <td>Un desayuno real tiene salchichas, jamón, bacon, huevos, tostadas y queso</td>\n",
       "    </tr>\n",
       "    <tr>\n",
       "      <th>4</th>\n",
       "      <td>¡Me encanta el jamón, los huevos, las salchichas y el bacon!</td>\n",
       "    </tr>\n",
       "    <tr>\n",
       "      <th>5</th>\n",
       "      <td>¡El zorro marrón es rápido, y el perro azul es un dormilón!</td>\n",
       "    </tr>\n",
       "    <tr>\n",
       "      <th>6</th>\n",
       "      <td>El cielo es azul intenso y hoy está muy luminoso</td>\n",
       "    </tr>\n",
       "    <tr>\n",
       "      <th>7</th>\n",
       "      <td>¡El perro es un dormilón, pero el zorro es mu rápido!</td>\n",
       "    </tr>\n",
       "  </tbody>\n",
       "</table>\n",
       "</div>"
      ],
      "text/plain": [
       "                                                                   Documento\n",
       "0                                               El cielo es azul y luminoso.\n",
       "1                                    ¡Me encanta este cielo azul y luminoso!\n",
       "2          El zorro marrón es rápido y salta sobre el perro que es dormilón.\n",
       "3  Un desayuno real tiene salchichas, jamón, bacon, huevos, tostadas y queso\n",
       "4               ¡Me encanta el jamón, los huevos, las salchichas y el bacon!\n",
       "5                ¡El zorro marrón es rápido, y el perro azul es un dormilón!\n",
       "6                           El cielo es azul intenso y hoy está muy luminoso\n",
       "7                      ¡El perro es un dormilón, pero el zorro es mu rápido!"
      ]
     },
     "execution_count": 7,
     "metadata": {},
     "output_type": "execute_result"
    }
   ],
   "source": [
    "corpus = ['El cielo es azul y luminoso.',\n",
    "          '¡Me encanta este cielo azul y luminoso!',\n",
    "          'El zorro marrón es rápido y salta sobre el perro que es dormilón.',\n",
    "          'Un desayuno real tiene salchichas, jamón, bacon, huevos, tostadas y queso',\n",
    "          '¡Me encanta el jamón, los huevos, las salchichas y el bacon!',\n",
    "          '¡El zorro marrón es rápido, y el perro azul es un dormilón!',\n",
    "          'El cielo es azul intenso y hoy está muy luminoso',\n",
    "          '¡El perro es un dormilón, pero el zorro es mu rápido!'\n",
    "]\n",
    "\n",
    "corpus = np.array(corpus)\n",
    "corpus_df = pd.DataFrame({'Documento': corpus}) \n",
    "\n",
    "corpus_df"
   ]
  },
  {
   "cell_type": "markdown",
   "metadata": {},
   "source": [
    "# Pre-procesamiento\n",
    "\n",
    "Para poder clusterizar los textos con mayor facilidad, es necesario que se queden las palabras que contengan significado de cada texto. Por ello, preprocesa los textos para eliminar los caracteres especiales, unificarlo en minúsculas, eliminar las stopwords."
   ]
  },
  {
   "cell_type": "code",
   "execution_count": 5,
   "metadata": {},
   "outputs": [
    {
     "data": {
      "text/plain": [
       "['cielo azul luminoso',\n",
       " 'encanta cielo azul luminoso',\n",
       " 'zorro marrón rápido salta perro dormilón',\n",
       " 'desayuno real salchichas jamón bacon huevos tostadas queso',\n",
       " 'encanta jamón huevos salchichas bacon',\n",
       " 'zorro marrón rápido perro azul dormilón',\n",
       " 'cielo azul intenso hoy luminoso',\n",
       " 'perro dormilón zorro mu rápido']"
      ]
     },
     "execution_count": 5,
     "metadata": {},
     "output_type": "execute_result"
    }
   ],
   "source": [
    "from mis_funciones import normalize_document\n",
    "\n",
    "norm_corpus=[]\n",
    "\n",
    "for document in corpus:\n",
    "    norm_corpus.append(normalize_document(document))\n",
    "\n",
    "norm_corpus\n",
    "\n"
   ]
  },
  {
   "cell_type": "markdown",
   "metadata": {},
   "source": [
    "# Generación de las matrices\n",
    "\n",
    "Genera BOW, TFIDF & Bag Of N-grams; se utilizarán para comparar los resultados."
   ]
  },
  {
   "cell_type": "code",
   "execution_count": null,
   "metadata": {},
   "outputs": [],
   "source": [
    "from sklearn.feature_extraction.text import CountVectorizer\n",
    "# get bag of words features in sparse format\n",
    "cv = CountVectorizer(min_df=0., max_df=1.)\n",
    "cv_matrix = cv.fit_transform(norm_corpus)\n",
    "cv_matrix"
   ]
  },
  {
   "cell_type": "code",
   "execution_count": null,
   "metadata": {},
   "outputs": [],
   "source": [
    "# view dense representation \n",
    "# warning might give a memory error if data is too big\n",
    "cv_matrix = cv_matrix.toarray()\n",
    "cv_matrix"
   ]
  },
  {
   "cell_type": "markdown",
   "metadata": {},
   "source": [
    "# Kmeans\n",
    "\n",
    "Utiliza KMeans para clusterizar los textos en distintos grupos. El número de clusters será 4. ¿Observas alguna diferencia con el Clustering jerárquico?"
   ]
  },
  {
   "cell_type": "code",
   "execution_count": null,
   "metadata": {},
   "outputs": [],
   "source": []
  }
 ],
 "metadata": {
  "anaconda-cloud": {},
  "kernelspec": {
   "display_name": "Python 3 (ipykernel)",
   "language": "python",
   "name": "python3"
  },
  "language_info": {
   "codemirror_mode": {
    "name": "ipython",
    "version": 3
   },
   "file_extension": ".py",
   "mimetype": "text/x-python",
   "name": "python",
   "nbconvert_exporter": "python",
   "pygments_lexer": "ipython3",
   "version": "3.10.13"
  },
  "varInspector": {
   "cols": {
    "lenName": 16,
    "lenType": 16,
    "lenVar": 40
   },
   "kernels_config": {
    "python": {
     "delete_cmd_postfix": "",
     "delete_cmd_prefix": "del ",
     "library": "var_list.py",
     "varRefreshCmd": "print(var_dic_list())"
    },
    "r": {
     "delete_cmd_postfix": ") ",
     "delete_cmd_prefix": "rm(",
     "library": "var_list.r",
     "varRefreshCmd": "cat(var_dic_list()) "
    }
   },
   "oldHeight": 122.855364,
   "position": {
    "height": "40px",
    "left": "906.636px",
    "right": "20px",
    "top": "43px",
    "width": "250px"
   },
   "types_to_exclude": [
    "module",
    "function",
    "builtin_function_or_method",
    "instance",
    "_Feature"
   ],
   "varInspector_section_display": "none",
   "window_display": true
  },
  "vscode": {
   "interpreter": {
    "hash": "107fb03afb2754bdb3cdbb13c1c83d7d6037442339c22e5ee8cf40869e8513c5"
   }
  }
 },
 "nbformat": 4,
 "nbformat_minor": 4
}
