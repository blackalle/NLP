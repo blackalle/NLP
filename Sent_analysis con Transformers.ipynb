{
 "cells": [
  {
   "cell_type": "markdown",
   "metadata": {},
   "source": [
    "# Análisis de sentimientos con Transformers"
   ]
  },
  {
   "cell_type": "code",
   "execution_count": 1,
   "metadata": {},
   "outputs": [
    {
     "name": "stderr",
     "output_type": "stream",
     "text": [
      "c:\\Users\\blaca\\anaconda3\\envs\\NLP\\lib\\site-packages\\tqdm\\auto.py:21: TqdmWarning: IProgress not found. Please update jupyter and ipywidgets. See https://ipywidgets.readthedocs.io/en/stable/user_install.html\n",
      "  from .autonotebook import tqdm as notebook_tqdm\n"
     ]
    }
   ],
   "source": [
    "## Importación de las librerías\n",
    "\n",
    "from transformers import pipeline"
   ]
  },
  {
   "cell_type": "code",
   "execution_count": 2,
   "metadata": {
    "tags": []
   },
   "outputs": [
    {
     "name": "stderr",
     "output_type": "stream",
     "text": [
      "Xformers is not installed correctly. If you want to use memorry_efficient_attention to accelerate training use the following command to install Xformers\n",
      "pip install xformers.\n"
     ]
    }
   ],
   "source": [
    "## Creacion de la pipeline adecuada\n",
    "sent_pipe = pipeline('sentiment-analysis', \n",
    "                     model='edumunozsala/bertin_base_sentiment_analysis_es')"
   ]
  },
  {
   "cell_type": "code",
   "execution_count": 3,
   "metadata": {},
   "outputs": [
    {
     "name": "stdout",
     "output_type": "stream",
     "text": [
      "I bought one of your washing machines, and I'm pretty ticked off right now. During the spin cycle, it's making this insanely loud noise and vibrating like it's possessed or something. I have no clue what's going on, but I need you guys to fix it ASAP. This can't wait – my patience is wearing thin. I expect a quick response and an immediate solution to this problem. [{'label': 'Negativo', 'score': 0.9992056488990784}]\n"
     ]
    }
   ],
   "source": [
    "## Valores del análisis\n",
    "\n",
    "frase = input('Deme el texto a analizar: ')\n",
    "print(frase, sent_pipe(frase))\n"
   ]
  },
  {
   "cell_type": "markdown",
   "metadata": {},
   "source": [
    "# Zero-shot classification"
   ]
  },
  {
   "cell_type": "code",
   "execution_count": 4,
   "metadata": {},
   "outputs": [
    {
     "name": "stdout",
     "output_type": "stream",
     "text": [
      "Etiquetas: ['Spin cycle issues and excessive vibration', 'Unusual noise during operation', 'Malfunctioning programs or controls', 'Door or locking mechanism problems', 'Water leaks or drainage problems']\n",
      "Puntuaciones: [0.6606174111366272, 0.32300347089767456, 0.010228672064840794, 0.004079892765730619, 0.002070677699521184]\n",
      "Clasificación más probable: Spin cycle issues and excessive vibration\n"
     ]
    }
   ],
   "source": [
    "from transformers import pipeline\n",
    "\n",
    "# Crear el pipeline de clasificación zero-shot\n",
    "classifier = pipeline(\"zero-shot-classification\", model=\"facebook/bart-large-mnli\")\n",
    "\n",
    "# Texto a clasificar\n",
    "text = \"I bought one of your washing machines, and I'm pretty ticked off right now. During the spin cycle, it's making this insanely loud noise and vibrating like it's possessed or something. I have no clue what's going on, but I need you guys to fix it ASAP. This can't wait – my patience is wearing thin. I expect a quick response and an immediate solution to this problem.\"\n",
    "\n",
    "# Etiquetas candidatas \n",
    "candidate_labels = ['Spin cycle issues and excessive vibration', 'Unusual noise during operation', 'Malfunctioning programs or controls', 'Door or locking mechanism problems','Water leaks or drainage problems']\n",
    "\n",
    "# Realizar la clasificación\n",
    "result = classifier(text, candidate_labels)\n",
    "\n",
    "print(\"Etiquetas:\", candidate_labels)\n",
    "print(\"Puntuaciones:\", result[\"scores\"])\n",
    "print(\"Clasificación más probable:\", result[\"labels\"][0])\n"
   ]
  }
 ],
 "metadata": {
  "kernelspec": {
   "display_name": "Python 3 (ipykernel)",
   "language": "python",
   "name": "python3"
  },
  "language_info": {
   "codemirror_mode": {
    "name": "ipython",
    "version": 3
   },
   "file_extension": ".py",
   "mimetype": "text/x-python",
   "name": "python",
   "nbconvert_exporter": "python",
   "pygments_lexer": "ipython3",
   "version": "3.10.12"
  },
  "varInspector": {
   "cols": {
    "lenName": 16,
    "lenType": 16,
    "lenVar": 40
   },
   "kernels_config": {
    "python": {
     "delete_cmd_postfix": "",
     "delete_cmd_prefix": "del ",
     "library": "var_list.py",
     "varRefreshCmd": "print(var_dic_list())"
    },
    "r": {
     "delete_cmd_postfix": ") ",
     "delete_cmd_prefix": "rm(",
     "library": "var_list.r",
     "varRefreshCmd": "cat(var_dic_list()) "
    }
   },
   "oldHeight": 122.855364,
   "position": {
    "height": "40px",
    "left": "893.636px",
    "right": "20px",
    "top": "120px",
    "width": "250px"
   },
   "types_to_exclude": [
    "module",
    "function",
    "builtin_function_or_method",
    "instance",
    "_Feature"
   ],
   "varInspector_section_display": "none",
   "window_display": true
  }
 },
 "nbformat": 4,
 "nbformat_minor": 4
}
