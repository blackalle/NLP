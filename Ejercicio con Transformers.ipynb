{
 "cells": [
  {
   "cell_type": "code",
   "execution_count": 2,
   "metadata": {},
   "outputs": [],
   "source": [
    "texto_ingles = (\"CUNEF is a cutting-edge private university, a reference in the field of Higher Education due to its specialization; the excellence of its students, professors and researchers; and its high degree of internationalization. Recognized as a University in 2019, its academic activity dates back to 1973: more than 10,000 professionals have been trained in its classrooms.CUNEF University's Undergraduate and Postgraduate degrees aim to respond to new challenges, marked by technology and a global market, in a context for which continuous training and lifelong learning are essential.\")"
   ]
  },
  {
   "cell_type": "code",
   "execution_count": 8,
   "metadata": {},
   "outputs": [],
   "source": [
    "model = \"Helsinki-NLP/opus-mt-en-es\""
   ]
  },
  {
   "cell_type": "code",
   "execution_count": 9,
   "metadata": {},
   "outputs": [
    {
     "name": "stderr",
     "output_type": "stream",
     "text": [
      "All model checkpoint layers were used when initializing TFMarianMTModel.\n",
      "\n",
      "All the layers of TFMarianMTModel were initialized from the model checkpoint at Helsinki-NLP/opus-mt-en-es.\n",
      "If your task is similar to the task the model of the checkpoint was trained on, you can already use TFMarianMTModel for predictions without further training.\n"
     ]
    },
    {
     "data": {
      "text/plain": [
       "[{'translation_text': 'CUNEF es una universidad privada de vanguardia, referente en el campo de la Educación Superior por su especialización; la excelencia de sus estudiantes, profesores e investigadores; y su alto grado de internacionalización.Reconocido como Universidad en 2019, su actividad académica se remonta a 1973: más de 10.000 profesionales han sido formados en sus aulas.Los grados de licenciatura y posgrado de la Universidad de CUNEF tienen como objetivo responder a nuevos retos, marcados por la tecnología y un mercado global, en un contexto para el que la formación continua y el aprendizaje permanente son esenciales.'}]"
      ]
     },
     "execution_count": 9,
     "metadata": {},
     "output_type": "execute_result"
    }
   ],
   "source": [
    "translator = pipeline(\"translation\", model=model)\n",
    "\n",
    "translator(\"CUNEF is a cutting-edge private university, a reference in the field of Higher Education due to its specialization; the excellence of its students, professors and researchers; and its high degree of internationalization. Recognized as a University in 2019, its academic activity dates back to 1973: more than 10,000 professionals have been trained in its classrooms.CUNEF University's Undergraduate and Postgraduate degrees aim to respond to new challenges, marked by technology and a global market, in a context for which continuous training and lifelong learning are essential.\")"
   ]
  },
  {
   "cell_type": "code",
   "execution_count": 13,
   "metadata": {},
   "outputs": [],
   "source": [
    "contexto = \"CUNEF es una universidad privada de vanguardia, referente en el campo de la Educación Superior por su especialización; la excelencia de sus estudiantes, profesores e investigadores; y su alto grado de internacionalización.Reconocido como Universidad en 2019, su actividad académica se remonta a 1973: más de 10.000 profesionales han sido formados en sus aulas.Los grados de licenciatura y posgrado de la Universidad de CUNEF tienen como objetivo responder a nuevos retos, marcados por la tecnología y un mercado global, en un contexto para el que la formación continua y el aprendizaje permanente son esenciales.\""
   ]
  },
  {
   "cell_type": "code",
   "execution_count": 18,
   "metadata": {},
   "outputs": [],
   "source": [
    "#model = \"mrm8488/distill-bert-base-spanish-wwm-cased-finetuned-spa-squad2-es\"\n",
    "\n",
    "#qa_pipeline = pipeline(\"question-answering\", model=model)"
   ]
  },
  {
   "cell_type": "code",
   "execution_count": 17,
   "metadata": {},
   "outputs": [],
   "source": [
    "#print(qa_pipeline(question = \"¿Cuándo se fundó la universidad?\", context= contexto))"
   ]
  },
  {
   "cell_type": "markdown",
   "metadata": {},
   "source": [
    "No me funciona el modelo pero el codigo sería ese"
   ]
  }
 ],
 "metadata": {
  "kernelspec": {
   "display_name": "nlp",
   "language": "python",
   "name": "python3"
  },
  "language_info": {
   "codemirror_mode": {
    "name": "ipython",
    "version": 3
   },
   "file_extension": ".py",
   "mimetype": "text/x-python",
   "name": "python",
   "nbconvert_exporter": "python",
   "pygments_lexer": "ipython3",
   "version": "3.10.13"
  }
 },
 "nbformat": 4,
 "nbformat_minor": 2
}
