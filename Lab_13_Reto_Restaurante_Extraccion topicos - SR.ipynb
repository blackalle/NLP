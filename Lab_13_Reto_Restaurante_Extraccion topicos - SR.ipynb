{
 "cells": [
  {
   "cell_type": "markdown",
   "metadata": {},
   "source": [
    "# Práctica de Laboratorio en NLP - Tópicos\n",
    "Tema: Extracción de tópicos\n",
    "\n",
    "Introducción:\n",
    "\n",
    "En esta práctica, trabajaremos en un proyecto de análisis de reclamaciones de un restaurante. La empresa desea saber de qué se quejan más los comensales, para identificar áreas de mejora. \n"
   ]
  },
  {
   "cell_type": "code",
   "execution_count": null,
   "metadata": {},
   "outputs": [],
   "source": [
    "### Importación de librerías\n",
    "\n",
    "import spacy\n",
    "import numpy as np\n",
    "import pandas as pd\n",
    "from sklearn.feature_extraction.text import TfidfVectorizer, CountVectorizer\n",
    "from sklearn.decomposition import LatentDirichletAllocation\n",
    "\n",
    "nlp = spacy.load(\"es_core_news_lg\")"
   ]
  },
  {
   "cell_type": "code",
   "execution_count": null,
   "metadata": {},
   "outputs": [],
   "source": [
    "sentencias = [\n",
    "    \"La comida llegó fría y tardó mucho en ser servida.\",\n",
    "    \"El servicio fue lento y el personal parecía desinteresado.\",\n",
    "    \"Pedimos un plato vegetariano y nos trajeron uno con carne.\",\n",
    "    \"Las mesas estaban sucias y no habían sido limpiadas correctamente.\",\n",
    "    \"No había suficiente iluminación en el área de comedor.\",\n",
    "    \"El restaurante estaba abarrotado y no se respetaron las reservas.\",\n",
    "    \"La música estaba demasiado alta y no se podía mantener una conversación.\",\n",
    "    \"La bebida que pedimos nunca llegó a la mesa.\",\n",
    "    \"Los platos estaban mal sazonados y carecían de sabor.\",\n",
    "    \"El menú tenía errores de ortografía y gramática.\",\n",
    "    \"El restaurante tenía un olor desagradable.\",\n",
    "    \"No había opciones vegetarianas en el menú.\",\n",
    "    \"Se nos cobró de más en la factura.\",\n",
    "    \"El baño del restaurante estaba sucio y sin papel higiénico.\",\n",
    "    \"El vino que pedimos estaba agrio y parecía estar mal almacenado.\",\n",
    "    \"La carne de mi plato estaba cruda en el centro.\",\n",
    "    \"Las sillas eran incómodas y difíciles de mover.\",\n",
    "    \"El personal fue grosero y poco atento.\",\n",
    "    \"El restaurante estaba demasiado caliente y sin aire acondicionado.\",\n",
    "    \"No se nos proporcionaron utensilios de mesa ni servilletas.\",\n",
    "    \"El postre que pedimos estaba rancio y no era comestible.\",\n",
    "    \"El menú era limitado y no ofrecía opciones para alergias alimentarias.\",\n",
    "    \"El restaurante tenía una plaga de insectos.\",\n",
    "    \"Los platos se veían descuidados y mal presentados.\",\n",
    "    \"La factura tenía errores en los cálculos de los precios.\"\n",
    "]\n",
    "\n",
    "\n"
   ]
  },
  {
   "cell_type": "markdown",
   "metadata": {},
   "source": [
    "Normaliza los textos con el preprocesamiento correspondiente.\n"
   ]
  },
  {
   "cell_type": "code",
   "execution_count": null,
   "metadata": {},
   "outputs": [],
   "source": []
  },
  {
   "cell_type": "markdown",
   "metadata": {},
   "source": [
    "Genera la matriz TFIDF"
   ]
  },
  {
   "cell_type": "code",
   "execution_count": null,
   "metadata": {},
   "outputs": [],
   "source": []
  },
  {
   "cell_type": "markdown",
   "metadata": {},
   "source": [
    "## Utiliza LDA para extraer los tópicos"
   ]
  },
  {
   "cell_type": "code",
   "execution_count": null,
   "metadata": {},
   "outputs": [],
   "source": []
  },
  {
   "cell_type": "markdown",
   "metadata": {},
   "source": [
    "## Muestra los tópicos por cada texto"
   ]
  },
  {
   "cell_type": "code",
   "execution_count": null,
   "metadata": {},
   "outputs": [],
   "source": []
  }
 ],
 "metadata": {
  "kernelspec": {
   "display_name": "Python 3 (ipykernel)",
   "language": "python",
   "name": "python3"
  },
  "language_info": {
   "codemirror_mode": {
    "name": "ipython",
    "version": 3
   },
   "file_extension": ".py",
   "mimetype": "text/x-python",
   "name": "python",
   "nbconvert_exporter": "python",
   "pygments_lexer": "ipython3",
   "version": "3.11.5"
  },
  "varInspector": {
   "cols": {
    "lenName": 16,
    "lenType": 16,
    "lenVar": 40
   },
   "kernels_config": {
    "python": {
     "delete_cmd_postfix": "",
     "delete_cmd_prefix": "del ",
     "library": "var_list.py",
     "varRefreshCmd": "print(var_dic_list())"
    },
    "r": {
     "delete_cmd_postfix": ") ",
     "delete_cmd_prefix": "rm(",
     "library": "var_list.r",
     "varRefreshCmd": "cat(var_dic_list()) "
    }
   },
   "oldHeight": 122.84136400000001,
   "position": {
    "height": "40px",
    "left": "1184.55px",
    "right": "20px",
    "top": "120px",
    "width": "250px"
   },
   "types_to_exclude": [
    "module",
    "function",
    "builtin_function_or_method",
    "instance",
    "_Feature"
   ],
   "varInspector_section_display": "none",
   "window_display": true
  },
  "vscode": {
   "interpreter": {
    "hash": "6d3789d190ebbe556da5f43ea86e3cac1eb49030905bcb870a33d67b8051f235"
   }
  }
 },
 "nbformat": 4,
 "nbformat_minor": 4
}
