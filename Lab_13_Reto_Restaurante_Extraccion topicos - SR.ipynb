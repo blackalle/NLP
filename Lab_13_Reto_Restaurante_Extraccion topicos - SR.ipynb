{
 "cells": [
  {
   "cell_type": "markdown",
   "metadata": {},
   "source": [
    "# Práctica de Laboratorio en NLP - Tópicos\n",
    "Tema: Extracción de tópicos\n",
    "\n",
    "Introducción:\n",
    "\n",
    "En esta práctica, trabajaremos en un proyecto de análisis de reclamaciones de un restaurante. La empresa desea saber de qué se quejan más los comensales, para identificar áreas de mejora. \n"
   ]
  },
  {
   "cell_type": "code",
   "execution_count": 1,
   "metadata": {},
   "outputs": [],
   "source": [
    "### Importación de librerías\n",
    "\n",
    "import spacy\n",
    "import numpy as np\n",
    "import pandas as pd\n",
    "from sklearn.feature_extraction.text import TfidfVectorizer, CountVectorizer\n",
    "from sklearn.decomposition import LatentDirichletAllocation\n",
    "\n",
    "nlp = spacy.load(\"es_core_news_lg\")"
   ]
  },
  {
   "cell_type": "code",
   "execution_count": 2,
   "metadata": {},
   "outputs": [],
   "source": [
    "sentencias = [\n",
    "    \"La comida llegó fría y tardó mucho en ser servida.\",\n",
    "    \"El servicio fue lento y el personal parecía desinteresado.\",\n",
    "    \"Pedimos un plato vegetariano y nos trajeron uno con carne.\",\n",
    "    \"Las mesas estaban sucias y no habían sido limpiadas correctamente.\",\n",
    "    \"No había suficiente iluminación en el área de comedor.\",\n",
    "    \"El restaurante estaba abarrotado y no se respetaron las reservas.\",\n",
    "    \"La música estaba demasiado alta y no se podía mantener una conversación.\",\n",
    "    \"La bebida que pedimos nunca llegó a la mesa.\",\n",
    "    \"Los platos estaban mal sazonados y carecían de sabor.\",\n",
    "    \"El menú tenía errores de ortografía y gramática.\",\n",
    "    \"El restaurante tenía un olor desagradable.\",\n",
    "    \"No había opciones vegetarianas en el menú.\",\n",
    "    \"Se nos cobró de más en la factura.\",\n",
    "    \"El baño del restaurante estaba sucio y sin papel higiénico.\",\n",
    "    \"El vino que pedimos estaba agrio y parecía estar mal almacenado.\",\n",
    "    \"La carne de mi plato estaba cruda en el centro.\",\n",
    "    \"Las sillas eran incómodas y difíciles de mover.\",\n",
    "    \"El personal fue grosero y poco atento.\",\n",
    "    \"El restaurante estaba demasiado caliente y sin aire acondicionado.\",\n",
    "    \"No se nos proporcionaron utensilios de mesa ni servilletas.\",\n",
    "    \"El postre que pedimos estaba rancio y no era comestible.\",\n",
    "    \"El menú era limitado y no ofrecía opciones para alergias alimentarias.\",\n",
    "    \"El restaurante tenía una plaga de insectos.\",\n",
    "    \"Los platos se veían descuidados y mal presentados.\",\n",
    "    \"La factura tenía errores en los cálculos de los precios.\"\n",
    "]\n",
    "\n",
    "\n"
   ]
  },
  {
   "cell_type": "markdown",
   "metadata": {},
   "source": [
    "Normaliza los textos con el preprocesamiento correspondiente.\n"
   ]
  },
  {
   "cell_type": "code",
   "execution_count": 3,
   "metadata": {},
   "outputs": [
    {
     "data": {
      "text/plain": [
       "['comida llegó fría tardó ser servida',\n",
       " 'servicio lento personal parecía desinteresado',\n",
       " 'pedimos plato vegetariano trajeron carne',\n",
       " 'mesas sucias sido limpiadas correctamente',\n",
       " 'suficiente iluminación área comedor',\n",
       " 'restaurante abarrotado respetaron reservas',\n",
       " 'música demasiado alta podía mantener conversación',\n",
       " 'bebida pedimos nunca llegó mesa',\n",
       " 'platos mal sazonados carecían sabor',\n",
       " 'menú errores ortografía gramática',\n",
       " 'restaurante olor desagradable',\n",
       " 'opciones vegetarianas menú',\n",
       " 'cobró factura',\n",
       " 'baño restaurante sucio papel higiénico',\n",
       " 'vino pedimos agrio parecía mal almacenado',\n",
       " 'carne plato cruda centro',\n",
       " 'sillas incómodas difíciles mover',\n",
       " 'personal grosero atento',\n",
       " 'restaurante demasiado caliente aire acondicionado',\n",
       " 'proporcionaron utensilios mesa servilletas']"
      ]
     },
     "execution_count": 3,
     "metadata": {},
     "output_type": "execute_result"
    }
   ],
   "source": [
    "# normalización de las sentencias\n",
    "from mis_funciones import normalize_document\n",
    "\n",
    "norm_doc=[]\n",
    "\n",
    "for document in sentencias:\n",
    "    norm_doc.append(normalize_document(document))\n",
    "\n",
    "#ver solo los primeros 20 documentos normalizados\n",
    "norm_doc[:20]\n"
   ]
  },
  {
   "cell_type": "markdown",
   "metadata": {},
   "source": [
    "Genera la matriz TFIDF"
   ]
  },
  {
   "cell_type": "code",
   "execution_count": 7,
   "metadata": {},
   "outputs": [
    {
     "data": {
      "text/plain": [
       "<25x88 sparse matrix of type '<class 'numpy.float64'>'\n",
       "\twith 110 stored elements in Compressed Sparse Row format>"
      ]
     },
     "execution_count": 7,
     "metadata": {},
     "output_type": "execute_result"
    }
   ],
   "source": [
    "# Creación de la matriz TF-IDF con tfidfVectorizer\n",
    "from sklearn.feature_extraction.text import TfidfVectorizer\n",
    "\n",
    "tfidf_vectorizer = TfidfVectorizer()\n",
    "tfidf = tfidf_vectorizer.fit_transform(norm_doc)\n",
    "tfidf"
   ]
  },
  {
   "cell_type": "markdown",
   "metadata": {},
   "source": [
    "## Utiliza LDA para extraer los tópicos"
   ]
  },
  {
   "cell_type": "code",
   "execution_count": 8,
   "metadata": {},
   "outputs": [
    {
     "data": {
      "text/plain": [
       "array([[0.05806518, 0.05805342, 0.7677232 , 0.05806744, 0.05809075],\n",
       "       [0.75165547, 0.06190331, 0.06225795, 0.06225268, 0.06193058],\n",
       "       [0.75018622, 0.06268618, 0.06269244, 0.06234209, 0.06209308],\n",
       "       [0.75264056, 0.06183057, 0.0618294 , 0.06184116, 0.06185831],\n",
       "       [0.06671337, 0.06670182, 0.73313126, 0.06671557, 0.06673797],\n",
       "       [0.06716288, 0.73114061, 0.06721236, 0.06730304, 0.06718111],\n",
       "       [0.05806313, 0.76773372, 0.05805042, 0.05806528, 0.05808744],\n",
       "       [0.06221961, 0.06248082, 0.75099714, 0.0622076 , 0.06209483],\n",
       "       [0.0620072 , 0.06271025, 0.75082365, 0.06242596, 0.06203294],\n",
       "       [0.06732047, 0.06708236, 0.06724594, 0.73146019, 0.06689104],\n",
       "       [0.07383718, 0.07552872, 0.07407299, 0.70270831, 0.07385281],\n",
       "       [0.07343091, 0.07427661, 0.7046198 , 0.07421973, 0.07345295],\n",
       "       [0.08369223, 0.08295062, 0.08294977, 0.66743694, 0.08297044],\n",
       "       [0.06222068, 0.06406334, 0.74863026, 0.06283876, 0.06224697],\n",
       "       [0.05882616, 0.05846368, 0.05901244, 0.76539772, 0.0583    ],\n",
       "       [0.06801618, 0.73159516, 0.06677964, 0.06679412, 0.0668149 ],\n",
       "       [0.06671337, 0.06670182, 0.73313126, 0.06671557, 0.06673797],\n",
       "       [0.0740006 , 0.07330935, 0.70602658, 0.07332181, 0.07334167],\n",
       "       [0.06220331, 0.75103205, 0.06223745, 0.06230645, 0.06222074],\n",
       "       [0.06676828, 0.73249427, 0.06717603, 0.06677035, 0.06679107],\n",
       "       [0.06720961, 0.06700906, 0.73154925, 0.06719313, 0.06703895],\n",
       "       [0.0581633 , 0.76589727, 0.05911223, 0.05863782, 0.05818939],\n",
       "       [0.07383759, 0.70433457, 0.07392071, 0.07405369, 0.07385343],\n",
       "       [0.06200501, 0.75092328, 0.06263749, 0.0624046 , 0.06202963],\n",
       "       [0.73136874, 0.06677284, 0.06677174, 0.06828833, 0.06679834]])"
      ]
     },
     "execution_count": 8,
     "metadata": {},
     "output_type": "execute_result"
    }
   ],
   "source": [
    "# utilización de la matriz TF-IDF para crear el modelo LDA y extraer los tópicos\n",
    "from sklearn.decomposition import LatentDirichletAllocation\n",
    "\n",
    "lda_model = LatentDirichletAllocation(n_components=5, max_iter=20, random_state=42)\n",
    "lda_output = lda_model.fit_transform(tfidf)\n",
    "lda_output"
   ]
  },
  {
   "cell_type": "markdown",
   "metadata": {},
   "source": [
    "## Muestra los tópicos por cada texto"
   ]
  },
  {
   "cell_type": "code",
   "execution_count": 24,
   "metadata": {},
   "outputs": [
    {
     "name": "stdout",
     "output_type": "stream",
     "text": [
      "Tópico 0:\n",
      "[('precios', 0.729085071199542), ('cálculos', 0.729085071199542), ('trajeron', 0.6923963654412046), ('vegetariano', 0.6923963654412046), ('errores', 0.6686179736750713), ('factura', 0.6681083268339818), ('lento', 0.6676395757252461), ('desinteresado', 0.6676395757252461), ('servicio', 0.6676395757252461), ('mesas', 0.6471199374283275)]\n",
      "Tópico 1:\n",
      "[('restaurante', 1.3538867867455167), ('demasiado', 0.9975513471674942), ('insectos', 0.8350203315480984), ('plaga', 0.8350203315480984), ('abarrotado', 0.7360215320192189), ('reservas', 0.7360215320192189), ('respetaron', 0.7360215320192189), ('centro', 0.729044500351445), ('cruda', 0.729044500351445), ('utensilios', 0.7138313473047617)]\n",
      "Tópico 2:\n",
      "[('llegó', 1.0048311121010063), ('pedimos', 0.9619294147657274), ('vegetarianas', 0.8407545179640195), ('atento', 0.7990046843392409), ('grosero', 0.7990046843392409), ('opciones', 0.7682880751397194), ('postre', 0.7304463715597942), ('comestible', 0.7304463715597942), ('rancio', 0.7304463715597942), ('personal', 0.7301399065435183)]\n",
      "Tópico 3:\n",
      "[('cobró', 0.9482587107667084), ('factura', 0.8639829925013527), ('desagradable', 0.8350686921379795), ('olor', 0.8350686921379795), ('gramática', 0.7395082654090919), ('ortografía', 0.7395082654090919), ('errores', 0.6784607156658051), ('agrio', 0.647739853086613), ('almacenado', 0.647739853086613), ('vino', 0.647739853086613)]\n",
      "Tópico 4:\n",
      "[('menú', 0.2001474019421562), ('restaurante', 0.20014302163155068), ('mal', 0.20013586118949642), ('pedimos', 0.20011603090237529), ('opciones', 0.2001045804357312), ('mesa', 0.20010163987534627), ('platos', 0.2000980656945459), ('personal', 0.20009686874139057), ('factura', 0.20008781265694622), ('plato', 0.2000874693536853)]\n"
     ]
    }
   ],
   "source": [
    "# visualización de los tópicos\n",
    "# función para imprimir los tópicos\n",
    "def print_topics(model, vectorizer, top_n=10):\n",
    "    for idx, topic in enumerate(model.components_):\n",
    "        print(\"Tópico %d:\" % (idx))\n",
    "        print([(vectorizer.get_feature_names_out()[i], topic[i])\n",
    "                        for i in topic.argsort()[:-top_n - 1:-1]])\n",
    "\n",
    "\n",
    "# impresión de los tópicos \n",
    "print_topics(lda_model, tfidf_vectorizer)"
   ]
  },
  {
   "cell_type": "code",
   "execution_count": 32,
   "metadata": {},
   "outputs": [
    {
     "ename": "AttributeError",
     "evalue": "module 'pyLDAvis' has no attribute 'sklearn'",
     "output_type": "error",
     "traceback": [
      "\u001b[0;31m---------------------------------------------------------------------------\u001b[0m",
      "\u001b[0;31mAttributeError\u001b[0m                            Traceback (most recent call last)",
      "\u001b[1;32m/workspaces/NLP/Lab_13_Reto_Restaurante_Extraccion topicos - SR.ipynb Cell 12\u001b[0m line \u001b[0;36m4\n\u001b[1;32m      <a href='vscode-notebook-cell://codespaces%2Borganic-acorn-v6vj5x6g9qrj3ppgq/workspaces/NLP/Lab_13_Reto_Restaurante_Extraccion%20topicos%20-%20SR.ipynb#X16sdnNjb2RlLXJlbW90ZQ%3D%3D?line=1'>2</a>\u001b[0m \u001b[39mimport\u001b[39;00m \u001b[39mpyLDAvis\u001b[39;00m\n\u001b[1;32m      <a href='vscode-notebook-cell://codespaces%2Borganic-acorn-v6vj5x6g9qrj3ppgq/workspaces/NLP/Lab_13_Reto_Restaurante_Extraccion%20topicos%20-%20SR.ipynb#X16sdnNjb2RlLXJlbW90ZQ%3D%3D?line=2'>3</a>\u001b[0m pyLDAvis\u001b[39m.\u001b[39menable_notebook()\n\u001b[0;32m----> <a href='vscode-notebook-cell://codespaces%2Borganic-acorn-v6vj5x6g9qrj3ppgq/workspaces/NLP/Lab_13_Reto_Restaurante_Extraccion%20topicos%20-%20SR.ipynb#X16sdnNjb2RlLXJlbW90ZQ%3D%3D?line=3'>4</a>\u001b[0m panel \u001b[39m=\u001b[39m pyLDAvis\u001b[39m.\u001b[39;49msklearn\u001b[39m.\u001b[39mprepare(lda_model, tfidf, tfidf_vectorizer, mds\u001b[39m=\u001b[39m\u001b[39m'\u001b[39m\u001b[39mtsne\u001b[39m\u001b[39m'\u001b[39m)\n\u001b[1;32m      <a href='vscode-notebook-cell://codespaces%2Borganic-acorn-v6vj5x6g9qrj3ppgq/workspaces/NLP/Lab_13_Reto_Restaurante_Extraccion%20topicos%20-%20SR.ipynb#X16sdnNjb2RlLXJlbW90ZQ%3D%3D?line=4'>5</a>\u001b[0m panel\n",
      "\u001b[0;31mAttributeError\u001b[0m: module 'pyLDAvis' has no attribute 'sklearn'"
     ]
    }
   ],
   "source": [
    "#usar pyLDAvis para visualizar los tópicos\n",
    "import pyLDAvis\n",
    "pyLDAvis.enable_notebook()\n",
    "panel = pyLDAvis.sklearn.prepare(lda_model, tfidf, tfidf_vectorizer, mds='tsne')\n",
    "panel"
   ]
  }
 ],
 "metadata": {
  "kernelspec": {
   "display_name": "Python 3 (ipykernel)",
   "language": "python",
   "name": "python3"
  },
  "language_info": {
   "codemirror_mode": {
    "name": "ipython",
    "version": 3
   },
   "file_extension": ".py",
   "mimetype": "text/x-python",
   "name": "python",
   "nbconvert_exporter": "python",
   "pygments_lexer": "ipython3",
   "version": "3.10.13"
  },
  "varInspector": {
   "cols": {
    "lenName": 16,
    "lenType": 16,
    "lenVar": 40
   },
   "kernels_config": {
    "python": {
     "delete_cmd_postfix": "",
     "delete_cmd_prefix": "del ",
     "library": "var_list.py",
     "varRefreshCmd": "print(var_dic_list())"
    },
    "r": {
     "delete_cmd_postfix": ") ",
     "delete_cmd_prefix": "rm(",
     "library": "var_list.r",
     "varRefreshCmd": "cat(var_dic_list()) "
    }
   },
   "oldHeight": 122.84136400000001,
   "position": {
    "height": "40px",
    "left": "1184.55px",
    "right": "20px",
    "top": "120px",
    "width": "250px"
   },
   "types_to_exclude": [
    "module",
    "function",
    "builtin_function_or_method",
    "instance",
    "_Feature"
   ],
   "varInspector_section_display": "none",
   "window_display": true
  },
  "vscode": {
   "interpreter": {
    "hash": "6d3789d190ebbe556da5f43ea86e3cac1eb49030905bcb870a33d67b8051f235"
   }
  }
 },
 "nbformat": 4,
 "nbformat_minor": 4
}
