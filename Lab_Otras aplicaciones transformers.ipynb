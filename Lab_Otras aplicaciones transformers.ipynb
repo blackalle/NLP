{
 "cells": [
  {
   "cell_type": "markdown",
   "metadata": {},
   "source": [
    "# Más aplicaciones de transformers\n",
    "\n",
    "Prueba la generación de texto y el zero shot classification. ¿Cómo funcionan? Comentaremos en clase."
   ]
  },
  {
   "cell_type": "code",
   "execution_count": null,
   "metadata": {},
   "outputs": [],
   "source": [
    "from transformers import pipeline\n",
    "\n",
    "# Crear el pipeline de clasificación zero-shot\n",
    "classifier = pipeline(\"zero-shot-classification\", model=\"facebook/bart-large-mnli\")\n",
    "\n",
    "# Texto a clasificar\n",
    "text = \"Este es un texto de ejemplo para clasificar.\"\n",
    "\n",
    "# Etiquetas candidatas (puedes cambiarlas según tus necesidades)\n",
    "candidate_labels = [\"educación\", \"política\", \"negocios\", \"salud\"]\n",
    "\n",
    "# Realizar la clasificación\n",
    "result = classifier(text, candidate_labels)\n",
    "\n",
    "print(\"Etiquetas:\", candidate_labels)\n",
    "print(\"Puntuaciones:\", result[\"scores\"])\n",
    "print(\"Clasificación más probable:\", result[\"labels\"][0])\n"
   ]
  }
 ],
 "metadata": {
  "kernelspec": {
   "display_name": "Python 3 (ipykernel)",
   "language": "python",
   "name": "python3"
  },
  "language_info": {
   "codemirror_mode": {
    "name": "ipython",
    "version": 3
   },
   "file_extension": ".py",
   "mimetype": "text/x-python",
   "name": "python",
   "nbconvert_exporter": "python",
   "pygments_lexer": "ipython3",
   "version": "3.11.5"
  },
  "varInspector": {
   "cols": {
    "lenName": 16,
    "lenType": 16,
    "lenVar": 40
   },
   "kernels_config": {
    "python": {
     "delete_cmd_postfix": "",
     "delete_cmd_prefix": "del ",
     "library": "var_list.py",
     "varRefreshCmd": "print(var_dic_list())"
    },
    "r": {
     "delete_cmd_postfix": ") ",
     "delete_cmd_prefix": "rm(",
     "library": "var_list.r",
     "varRefreshCmd": "cat(var_dic_list()) "
    }
   },
   "oldHeight": 122.855364,
   "position": {
    "height": "40px",
    "left": "893.636px",
    "right": "20px",
    "top": "120px",
    "width": "250px"
   },
   "types_to_exclude": [
    "module",
    "function",
    "builtin_function_or_method",
    "instance",
    "_Feature"
   ],
   "varInspector_section_display": "none",
   "window_display": true
  }
 },
 "nbformat": 4,
 "nbformat_minor": 4
}
