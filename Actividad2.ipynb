{
 "cells": [
  {
   "cell_type": "markdown",
   "metadata": {},
   "source": [
    "# Actividad 2: PRÁCTICA DE CLASIFICACIÓN DE TEXTOS\n",
    "## Borja Lacalle Álvarez"
   ]
  },
  {
   "cell_type": "code",
   "execution_count": 2,
   "metadata": {},
   "outputs": [],
   "source": [
    "#importar librerias para el desarrollo de la actividad\n",
    "import pandas as pd\n",
    "import numpy as np\n",
    "import matplotlib.pyplot as plt\n",
    "import spacy\n",
    "import nltk"
   ]
  },
  {
   "cell_type": "code",
   "execution_count": 6,
   "metadata": {},
   "outputs": [
    {
     "data": {
      "text/html": [
       "<div>\n",
       "<style scoped>\n",
       "    .dataframe tbody tr th:only-of-type {\n",
       "        vertical-align: middle;\n",
       "    }\n",
       "\n",
       "    .dataframe tbody tr th {\n",
       "        vertical-align: top;\n",
       "    }\n",
       "\n",
       "    .dataframe thead th {\n",
       "        text-align: right;\n",
       "    }\n",
       "</style>\n",
       "<table border=\"1\" class=\"dataframe\">\n",
       "  <thead>\n",
       "    <tr style=\"text-align: right;\">\n",
       "      <th></th>\n",
       "      <th>label</th>\n",
       "      <th>text</th>\n",
       "    </tr>\n",
       "  </thead>\n",
       "  <tbody>\n",
       "    <tr>\n",
       "      <th>0</th>\n",
       "      <td>ham</td>\n",
       "      <td>Go until jurong point, crazy.. Available only ...</td>\n",
       "    </tr>\n",
       "    <tr>\n",
       "      <th>1</th>\n",
       "      <td>ham</td>\n",
       "      <td>Ok lar... Joking wif u oni...</td>\n",
       "    </tr>\n",
       "    <tr>\n",
       "      <th>2</th>\n",
       "      <td>spam</td>\n",
       "      <td>Free entry in 2 a wkly comp to win FA Cup fina...</td>\n",
       "    </tr>\n",
       "    <tr>\n",
       "      <th>3</th>\n",
       "      <td>ham</td>\n",
       "      <td>U dun say so early hor... U c already then say...</td>\n",
       "    </tr>\n",
       "    <tr>\n",
       "      <th>4</th>\n",
       "      <td>ham</td>\n",
       "      <td>Nah I don't think he goes to usf, he lives aro...</td>\n",
       "    </tr>\n",
       "    <tr>\n",
       "      <th>5</th>\n",
       "      <td>spam</td>\n",
       "      <td>FreeMsg Hey there darling it's been 3 week's n...</td>\n",
       "    </tr>\n",
       "    <tr>\n",
       "      <th>6</th>\n",
       "      <td>ham</td>\n",
       "      <td>Even my brother is not like to speak with me. ...</td>\n",
       "    </tr>\n",
       "    <tr>\n",
       "      <th>7</th>\n",
       "      <td>ham</td>\n",
       "      <td>As per your request 'Melle Melle (Oru Minnamin...</td>\n",
       "    </tr>\n",
       "    <tr>\n",
       "      <th>8</th>\n",
       "      <td>spam</td>\n",
       "      <td>WINNER!! As a valued network customer you have...</td>\n",
       "    </tr>\n",
       "    <tr>\n",
       "      <th>9</th>\n",
       "      <td>spam</td>\n",
       "      <td>Had your mobile 11 months or more? U R entitle...</td>\n",
       "    </tr>\n",
       "  </tbody>\n",
       "</table>\n",
       "</div>"
      ],
      "text/plain": [
       "  label                                               text\n",
       "0   ham  Go until jurong point, crazy.. Available only ...\n",
       "1   ham                      Ok lar... Joking wif u oni...\n",
       "2  spam  Free entry in 2 a wkly comp to win FA Cup fina...\n",
       "3   ham  U dun say so early hor... U c already then say...\n",
       "4   ham  Nah I don't think he goes to usf, he lives aro...\n",
       "5  spam  FreeMsg Hey there darling it's been 3 week's n...\n",
       "6   ham  Even my brother is not like to speak with me. ...\n",
       "7   ham  As per your request 'Melle Melle (Oru Minnamin...\n",
       "8  spam  WINNER!! As a valued network customer you have...\n",
       "9  spam  Had your mobile 11 months or more? U R entitle..."
      ]
     },
     "execution_count": 6,
     "metadata": {},
     "output_type": "execute_result"
    }
   ],
   "source": [
    "# leer dataset spam.csv\n",
    "spam = pd.read_csv('spam.csv')\n",
    "spam.head(10)"
   ]
  },
  {
   "cell_type": "code",
   "execution_count": 7,
   "metadata": {},
   "outputs": [],
   "source": [
    "from nltk.tokenize import WordPunctTokenizer\n",
    "from nltk.corpus import stopwords\n",
    "\n",
    "wpt = WordPunctTokenizer()\n",
    "stop_words = set(stopwords.words('spanish'))\n",
    "\n",
    "def normalize_document(doc):\n",
    "    doc = doc.replace(\"!\", \"\").replace(\"¡\", \"\").replace(\",\", \"\").replace(\".\", \"\").replace(\";\", \"\")\n",
    "    doc = doc.lower()\n",
    "    doc = doc.strip()\n",
    "    # tokenize document\n",
    "    tokens = wpt.tokenize(doc)\n",
    "    # filter stopwords out of document\n",
    "    filtered_tokens = [token for token in tokens if token not in stop_words]\n",
    "    # re-create document from filtered tokens\n",
    "    doc = ' '.join(filtered_tokens)\n",
    "    return doc"
   ]
  },
  {
   "cell_type": "code",
   "execution_count": 8,
   "metadata": {},
   "outputs": [
    {
     "data": {
      "text/plain": [
       "['go until jurong point crazy available only in bugis n great world buffet cine there got amore wat',\n",
       " 'ok lar joking wif u oni',\n",
       " \"free entry in 2 wkly comp to win fa cup final tkts 21st may 2005 text fa to 87121 to receive entry question ( std txt rate ) t & c ' s apply 08452810075over18 ' s\",\n",
       " 'u dun say so early hor u c already then say',\n",
       " \"nah i don ' t think goes to usf lives around here though\",\n",
       " \"freemsg hey there darling it ' s been 3 week ' s now and word back i ' d like some fun you up for it still ? tb ok xxx std chgs to send å £ 150 to rcv\",\n",
       " 'even my brother is not like to speak with they treat like aids patent',\n",
       " \"as per your request ' melle melle ( oru minnaminunginte nurungu vettam )' been set as your callertune for all callers press * 9 to copy your friends callertune\",\n",
       " 'winner as valued network customer you have been selected to receivea å £ 900 prize reward to claim call 09061701461 claim code kl341 valid 12 hours only',\n",
       " 'had your mobile 11 months or more ? u r entitled to update to the latest colour mobiles with camera for free call the mobile update co free on 08002986030',\n",
       " \"i ' m gonna be home soon and i don ' t want to talk about this stuff anymore tonight k ? i ' ve cried enough today\",\n",
       " 'six chances to win cash from 100 to 20000 pounds txt > csh11 and send to 87575 cost 150p / day 6days 16 + tsandcs apply reply hl 4 info',\n",
       " 'urgent you have won 1 week free membership in our å £ 100000 prize jackpot txt the word : claim to : 81010 t & c wwwdbuknet lccltd pobox 4403ldnw1a7rw18',\n",
       " \"i ' ve been searching for the right words to thank you for this breather i promise i wont take your help for granted and will fulfil my promise you have been wonderful and blessing at all times\",\n",
       " 'i have date on sunday with will',\n",
       " 'xxxmobilemovieclub : to use your credit click the wap link in the next txt message or click here >> http :// wap xxxmobilemovieclubcom ? n = qjkgighjjgcbl',\n",
       " \"oh ki ' m watching here :)\",\n",
       " 'eh u remember how 2 spell his name yes i did v naughty make until i v wet',\n",
       " 'fine if thatåõs the way u feel thatåõs the way its gota b',\n",
       " 'england v macedonia - dont miss the goals / team news txt ur national team to 87077 eg england to 87077 try : wales scotland 4txt / ì¼120 poboxox36504w45wq 16 +']"
      ]
     },
     "execution_count": 8,
     "metadata": {},
     "output_type": "execute_result"
    }
   ],
   "source": [
    "norm_spam=[]\n",
    "\n",
    "for document in spam['text']:\n",
    "    norm_spam.append(normalize_document(document))\n",
    "\n",
    "#ver solo los primeros 20 documentos normalizados\n",
    "norm_spam[:20]\n"
   ]
  },
  {
   "cell_type": "code",
   "execution_count": 17,
   "metadata": {},
   "outputs": [
    {
     "data": {
      "text/plain": [
       "array([[0., 0., 0., ..., 0., 0., 0.],\n",
       "       [0., 0., 0., ..., 0., 0., 0.],\n",
       "       [0., 0., 0., ..., 0., 0., 0.],\n",
       "       ...,\n",
       "       [0., 0., 0., ..., 0., 0., 0.],\n",
       "       [0., 0., 0., ..., 0., 0., 0.],\n",
       "       [0., 0., 0., ..., 0., 0., 0.]])"
      ]
     },
     "execution_count": 17,
     "metadata": {},
     "output_type": "execute_result"
    }
   ],
   "source": [
    "#convertir norm_spam en una matriz tf-idf\n",
    "from sklearn.feature_extraction.text import TfidfVectorizer\n",
    "\n",
    "tfidf_vectorizer = TfidfVectorizer()\n",
    "tfidf = tfidf_vectorizer.fit_transform(norm_spam)\n",
    "\n",
    "tfidf_array = tfidf.toarray()\n",
    "tfidf_array\n"
   ]
  },
  {
   "cell_type": "code",
   "execution_count": 18,
   "metadata": {},
   "outputs": [],
   "source": [
    "#dividir el dataset en train y test\n",
    "from sklearn.model_selection import train_test_split\n",
    "\n",
    "X_train, X_test, y_train, y_test = train_test_split(tfidf, spam['label'], test_size=0.2, random_state=42)\n",
    "\n"
   ]
  },
  {
   "cell_type": "code",
   "execution_count": null,
   "metadata": {},
   "outputs": [],
   "source": []
  },
  {
   "cell_type": "code",
   "execution_count": null,
   "metadata": {},
   "outputs": [],
   "source": []
  },
  {
   "cell_type": "code",
   "execution_count": null,
   "metadata": {},
   "outputs": [],
   "source": []
  }
 ],
 "metadata": {
  "kernelspec": {
   "display_name": "Python 3",
   "language": "python",
   "name": "python3"
  },
  "language_info": {
   "codemirror_mode": {
    "name": "ipython",
    "version": 3
   },
   "file_extension": ".py",
   "mimetype": "text/x-python",
   "name": "python",
   "nbconvert_exporter": "python",
   "pygments_lexer": "ipython3",
   "version": "3.10.13"
  }
 },
 "nbformat": 4,
 "nbformat_minor": 2
}
