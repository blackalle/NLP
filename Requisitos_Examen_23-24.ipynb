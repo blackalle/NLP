{
 "cells": [
  {
   "cell_type": "code",
   "execution_count": null,
   "id": "a3cbe28d",
   "metadata": {},
   "outputs": [],
   "source": [
    "# Exam requirements\n",
    "\n",
    "import pandas as pd\n",
    "import sklearn\n",
    "import transformers\n",
    "import nltk\n",
    "import spacy\n",
    "\n",
    "nlp_es = spacy.load('es_core_news_lg')\n",
    "\n",
    "pipeline(\"question-answering\", model=\"mrm8488/distill-bert-base-spanish-wwm-cased-finetuned-spa-squad2-es\")\n",
    "pipeline(\"translation\", model=\"Helsinki-NLP/opus-mt-en-es\")\n",
    "pipeline('sentiment-analysis', model = \"edumunozsala/bertin_base_sentiment_analysis_es\")\n",
    "pipeline(\"zero-shot-classification\", model=\"facebook/bart-large-mnli\")\n",
    "\n",
    "!pip install \"transformers[sentencepiece]\""
   ]
  }
 ],
 "metadata": {
  "kernelspec": {
   "display_name": "Python 3 (ipykernel)",
   "language": "python",
   "name": "python3"
  },
  "language_info": {
   "codemirror_mode": {
    "name": "ipython",
    "version": 3
   },
   "file_extension": ".py",
   "mimetype": "text/x-python",
   "name": "python",
   "nbconvert_exporter": "python",
   "pygments_lexer": "ipython3",
   "version": "3.11.5"
  }
 },
 "nbformat": 4,
 "nbformat_minor": 5
}
