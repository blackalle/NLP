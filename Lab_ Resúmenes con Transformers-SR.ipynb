{
 "cells": [
  {
   "cell_type": "markdown",
   "metadata": {},
   "source": [
    "# Resúmenes con Transformers\n",
    "\n",
    "Haz un resumen de este texto utilizando transformers."
   ]
  },
  {
   "cell_type": "code",
   "execution_count": 2,
   "metadata": {},
   "outputs": [],
   "source": [
    "## Definición del modelo\n",
    "\n",
    "text = \"\"\"La montaña mágica (Der Zauberberg, en el original alemán) es una novela de Thomas Mann que se publicó \n",
    "en 1924. Es considerada la novela más importante de su autor y un clásico de la literatura en lengua alemana \n",
    "del siglo XX que ha sido traducido a numerosos idiomas, siendo dominio público en países como Estados Unidos, \n",
    "España, Brasil, entre otros.\n",
    "Thomas Mann comenzó a escribir la novela en 1912, a raíz de una visita a su esposa en el Sanatorio Wald de Davos \n",
    "en el que se encontraba internada. La concibió inicialmente como una novela corta, pero el proyecto fue creciendo \n",
    "con el tiempo hasta convertirse en una obra mucho más extensa. La obra narra la estancia de su protagonista principal, \n",
    "el joven Hans Castorp, en un sanatorio de los Alpes suizos al que inicialmente había llegado únicamente como \n",
    "visitante. La obra ha sido calificada de novela filosófica, porque, aunque se ajusta al molde genérico del \n",
    "Bildungsroman o novela de aprendizaje, introduce reflexiones sobre los temas más variados, tanto a cargo del narrador \n",
    "como de los personajes (especialmente Naphta y Settembrini, los encargados de la educación del protagonista).\"\"\"\n",
    "\n"
   ]
  },
  {
   "cell_type": "code",
   "execution_count": 2,
   "metadata": {},
   "outputs": [
    {
     "name": "stderr",
     "output_type": "stream",
     "text": [
      "/workspaces/NLP/.conda/lib/python3.10/site-packages/tqdm/auto.py:21: TqdmWarning: IProgress not found. Please update jupyter and ipywidgets. See https://ipywidgets.readthedocs.io/en/stable/user_install.html\n",
      "  from .autonotebook import tqdm as notebook_tqdm\n",
      "Downloading (…)okenizer_config.json: 100%|██████████| 1.12k/1.12k [00:00<00:00, 5.20MB/s]\n",
      "Downloading (…)olve/main/vocab.json: 100%|██████████| 851k/851k [00:00<00:00, 3.39MB/s]\n",
      "Downloading (…)olve/main/merges.txt: 100%|██████████| 509k/509k [00:00<00:00, 18.2MB/s]\n",
      "Downloading (…)/main/tokenizer.json: 100%|██████████| 1.46M/1.46M [00:00<00:00, 6.25MB/s]\n",
      "Downloading (…)cial_tokens_map.json: 100%|██████████| 772/772 [00:00<00:00, 4.92MB/s]\n",
      "Downloading (…)lve/main/config.json: 100%|██████████| 4.62k/4.62k [00:00<00:00, 21.0MB/s]\n",
      "Downloading pytorch_model.bin: 100%|██████████| 615M/615M [00:15<00:00, 38.9MB/s] \n",
      "The following encoder weights were not tied to the decoder ['roberta/pooler']\n",
      "The following encoder weights were not tied to the decoder ['roberta/pooler']\n",
      "The following encoder weights were not tied to the decoder ['roberta/pooler']\n",
      "The following encoder weights were not tied to the decoder ['roberta/pooler']\n"
     ]
    },
    {
     "name": "stdout",
     "output_type": "stream",
     "text": [
      "'La montaña mágica (Der Zauberen 1924), de Thomas Mann, es la novela más importante de su autor\n"
     ]
    }
   ],
   "source": [
    "# importar librerías para hacer resumenes con transformers\n",
    "from transformers import pipeline\n",
    "from transformers import AutoTokenizer, AutoModelForSeq2SeqLM\n",
    "\n",
    "model_name = \"Narrativa/bsc_roberta2roberta_shared-spanish-finetuned-mlsum-summarization\"\n",
    "tokenizer = AutoTokenizer.from_pretrained(model_name)\n",
    "model = AutoModelForSeq2SeqLM.from_pretrained(model_name)\n",
    "\n",
    "# definir el pipeline\n",
    "summarizer = pipeline(\"summarization\", model=model, tokenizer=tokenizer)\n",
    "\n",
    "# generar el resumen\n",
    "summary = summarizer(text, max_length=100, min_length=5, do_sample=False)\n",
    "\n",
    "# imprimir el resumen\n",
    "for sentence in summary:\n",
    "    print(sentence['summary_text'])\n",
    "\n",
    "\n"
   ]
  },
  {
   "cell_type": "code",
   "execution_count": 5,
   "metadata": {},
   "outputs": [
    {
     "name": "stderr",
     "output_type": "stream",
     "text": [
      "The following encoder weights were not tied to the decoder ['roberta/pooler']\n",
      "The following encoder weights were not tied to the decoder ['roberta/pooler']\n",
      "The following encoder weights were not tied to the decoder ['roberta/pooler']\n",
      "The following encoder weights were not tied to the decoder ['roberta/pooler']\n"
     ]
    },
    {
     "data": {
      "text/plain": [
       "\"'La montaña mágica (Der Zauberen 1924), de Thomas Mann, es la novela más importante de su autor\""
      ]
     },
     "execution_count": 5,
     "metadata": {},
     "output_type": "execute_result"
    }
   ],
   "source": [
    "import torch\n",
    "from transformers import RobertaTokenizerFast, EncoderDecoderModel\n",
    "device = 'cuda' if torch.cuda.is_available() else 'cpu'\n",
    "ckpt = 'Narrativa/bsc_roberta2roberta_shared-spanish-finetuned-mlsum-summarization'\n",
    "tokenizer = RobertaTokenizerFast.from_pretrained(ckpt)\n",
    "model = EncoderDecoderModel.from_pretrained(ckpt).to(device)\n",
    "\n",
    "def generate_summary(text):\n",
    "\n",
    "   inputs = tokenizer([text], padding=\"max_length\", truncation=True, max_length=514, return_tensors=\"pt\")\n",
    "   input_ids = inputs.input_ids.to(device)\n",
    "   attention_mask = inputs.attention_mask.to(device)\n",
    "   output = model.generate(input_ids, attention_mask=attention_mask)\n",
    "   return tokenizer.decode(output[0], skip_special_tokens=True)\n",
    "   \n",
    "text = text\n",
    "generate_summary(text)"
   ]
  }
 ],
 "metadata": {
  "kernelspec": {
   "display_name": "Python 3 (ipykernel)",
   "language": "python",
   "name": "python3"
  },
  "language_info": {
   "codemirror_mode": {
    "name": "ipython",
    "version": 3
   },
   "file_extension": ".py",
   "mimetype": "text/x-python",
   "name": "python",
   "nbconvert_exporter": "python",
   "pygments_lexer": "ipython3",
   "version": "3.10.13"
  },
  "varInspector": {
   "cols": {
    "lenName": 16,
    "lenType": 16,
    "lenVar": 40
   },
   "kernels_config": {
    "python": {
     "delete_cmd_postfix": "",
     "delete_cmd_prefix": "del ",
     "library": "var_list.py",
     "varRefreshCmd": "print(var_dic_list())"
    },
    "r": {
     "delete_cmd_postfix": ") ",
     "delete_cmd_prefix": "rm(",
     "library": "var_list.r",
     "varRefreshCmd": "cat(var_dic_list()) "
    }
   },
   "oldHeight": 122.855364,
   "position": {
    "height": "40px",
    "left": "893.636px",
    "right": "20px",
    "top": "120px",
    "width": "250px"
   },
   "types_to_exclude": [
    "module",
    "function",
    "builtin_function_or_method",
    "instance",
    "_Feature"
   ],
   "varInspector_section_display": "none",
   "window_display": true
  }
 },
 "nbformat": 4,
 "nbformat_minor": 4
}
