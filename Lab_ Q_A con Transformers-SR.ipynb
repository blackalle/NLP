{
 "cells": [
  {
   "cell_type": "markdown",
   "metadata": {},
   "source": [
    "# Q&A con Transformers\n",
    "\n",
    "Haz preguntas al texto utilizando tranformers. Prueba también en distintos idiomas."
   ]
  },
  {
   "cell_type": "code",
   "execution_count": 2,
   "metadata": {},
   "outputs": [],
   "source": [
    "\n",
    "\n",
    "contexto = \"\"\"El Real Monasterio de San Lorenzo de El Escorial es un complejo que incluye un palacio real, una basílica, un panteón, una biblioteca, un colegio y un monasterio. Se encuentra en la localidad española de San Lorenzo de El Escorial, en la Comunidad de Madrid, y fue construido en el siglo xvi entre 1563 y 1584.\n",
    "\n",
    "El palacio fue residencia de la familia real española, la basílica es lugar de sepultura de los reyes de España y el monasterio –fundado por monjes de la Orden de San Jerónimo– está ocupado actualmente por frailes de la Orden de San Agustín. Es una de las más singulares arquitecturas renacentistas de España y de Europa. Situado en San Lorenzo de El Escorial, ocupa una superficie de 33 327 m², sobre la ladera meridional del monte Abantos, a 1028 m de altitud, en la sierra de Guadarrama. Está gestionado por Patrimonio Nacional.\n",
    "\n",
    "Conocido también como Monasterio de San Lorenzo El Real, o, sencillamente, El Escorial, fue ideado en la segunda mitad del siglo xvi por el rey Felipe II y su arquitecto Juan Bautista de Toledo, aunque posteriormente intervinieron Juan de Herrera, Juan de Minjares, Giovanni Battista Castello El Bergamasco y Francisco de Mora. El rey concibió un gran complejo multifuncional, monacal y palaciego que, plasmado por Juan Bautista de Toledo según el paradigma de la Traza Universal, dio origen al estilo herreriano.\n",
    "\n",
    "Fue considerado, desde finales del siglo xvi, la Octava Maravilla del Mundo, tanto por su tamaño y complejidad funcional como por su enorme valor simbólico. Su arquitectura marcó el paso del plateresco renacentista al clasicismo desornamentado. Obra ingente, de gran monumentalidad, es también un receptáculo de las demás artes. Sus pinturas, esculturas, cantorales, pergaminos, ornamentos litúrgicos y demás objetos suntuarios, sacros y áulicos hacen que El Escorial sea también un museo. Su compleja iconografía e iconología ha merecido las más variadas interpretaciones de historiadores, admiradores y críticos. El Escorial es la cristalización de las ideas y de la voluntad de su impulsor, el rey Felipe II, un príncipe renacentista.\n",
    "\n",
    "El 2 de noviembre de 1984, la UNESCO declaró el Monasterio y Sitio de El Escorial como Patrimonio de la Humanidad. Es una de las principales atracciones turísticas de la Comunidad de Madrid. El conjunto monumental recibe más de 500 000 visitantes al año.1​\"\"\"\n",
    "  "
   ]
  },
  {
   "cell_type": "code",
   "execution_count": 10,
   "metadata": {},
   "outputs": [
    {
     "name": "stderr",
     "output_type": "stream",
     "text": [
      "Downloading (…)lve/main/config.json: 100%|██████████| 571/571 [00:00<00:00, 3.71MB/s]\n",
      "Downloading model.safetensors: 100%|██████████| 496M/496M [00:03<00:00, 135MB/s] \n",
      "Downloading (…)okenizer_config.json: 100%|██████████| 79.0/79.0 [00:00<00:00, 509kB/s]\n",
      "Downloading (…)olve/main/vocab.json: 100%|██████████| 899k/899k [00:00<00:00, 45.4MB/s]\n",
      "Downloading (…)olve/main/merges.txt: 100%|██████████| 456k/456k [00:00<00:00, 65.5MB/s]\n",
      "Downloading (…)cial_tokens_map.json: 100%|██████████| 772/772 [00:00<00:00, 4.22MB/s]\n"
     ]
    },
    {
     "data": {
      "text/plain": [
       "{'score': 0.13054022192955017,\n",
       " 'start': 0,\n",
       " 'end': 33,\n",
       " 'answer': 'El Real Monasterio de San Lorenzo'}"
      ]
     },
     "execution_count": 10,
     "metadata": {},
     "output_type": "execute_result"
    }
   ],
   "source": [
    "#importamos el modelo de transformers para hacer question answering\n",
    "from transformers import AutoModelForQuestionAnswering, AutoTokenizer, pipeline\n",
    "\n",
    "model_name = \"deepset/roberta-base-squad2\"\n",
    "\n",
    "# a) Get predictions\n",
    "nlp = pipeline('question-answering', model=model_name, tokenizer=model_name)\n",
    "QA_input = {\n",
    "    'question': '¿que es El Escorial?',\n",
    "    'context': contexto\n",
    "}\n",
    "res = nlp(QA_input)\n",
    "\n",
    "# b) Load model & tokenizer\n",
    "model = AutoModelForQuestionAnswering.from_pretrained(model_name)\n",
    "tokenizer = AutoTokenizer.from_pretrained(model_name)\n",
    "\n",
    "res"
   ]
  },
  {
   "cell_type": "code",
   "execution_count": 3,
   "metadata": {},
   "outputs": [
    {
     "name": "stderr",
     "output_type": "stream",
     "text": [
      "/workspaces/NLP/.conda/lib/python3.10/site-packages/tqdm/auto.py:21: TqdmWarning: IProgress not found. Please update jupyter and ipywidgets. See https://ipywidgets.readthedocs.io/en/stable/user_install.html\n",
      "  from .autonotebook import tqdm as notebook_tqdm\n",
      "Downloading (…)lve/main/config.json: 100%|██████████| 465/465 [00:00<00:00, 2.62MB/s]\n",
      "Downloading pytorch_model.bin: 100%|██████████| 439M/439M [00:04<00:00, 89.0MB/s] \n",
      "Some weights of the model checkpoint at mrm8488/bert-base-spanish-wwm-cased-finetuned-spa-squad2-es were not used when initializing BertForQuestionAnswering: ['bert.pooler.dense.bias', 'bert.pooler.dense.weight']\n",
      "- This IS expected if you are initializing BertForQuestionAnswering from the checkpoint of a model trained on another task or with another architecture (e.g. initializing a BertForSequenceClassification model from a BertForPreTraining model).\n",
      "- This IS NOT expected if you are initializing BertForQuestionAnswering from the checkpoint of a model that you expect to be exactly identical (initializing a BertForSequenceClassification model from a BertForSequenceClassification model).\n",
      "Downloading (…)okenizer_config.json: 100%|██████████| 135/135 [00:00<00:00, 608kB/s]\n",
      "Downloading (…)solve/main/vocab.txt: 100%|██████████| 242k/242k [00:00<00:00, 35.0MB/s]\n",
      "Downloading (…)cial_tokens_map.json: 100%|██████████| 112/112 [00:00<00:00, 791kB/s]\n"
     ]
    }
   ],
   "source": [
    "# importar el modelo de transformers para hacer question answering en español\n",
    "from transformers import AutoModelForQuestionAnswering, AutoTokenizer, pipeline\n",
    "\n",
    "model_name = \"mrm8488/bert-base-spanish-wwm-cased-finetuned-spa-squad2-es\"\n",
    "\n",
    "# a) Get predictions\n",
    "nlp = pipeline('question-answering', model=model_name, tokenizer=model_name)\n",
    "QA_input = {\n",
    "    'question': '¿Quién fue el arquitecto del monasterio?',\n",
    "    'context': contexto\n",
    "}\n",
    "res = nlp(QA_input)\n"
   ]
  },
  {
   "cell_type": "code",
   "execution_count": 4,
   "metadata": {},
   "outputs": [
    {
     "data": {
      "text/plain": [
       "{'score': 0.9300013780593872,\n",
       " 'start': 1015,\n",
       " 'end': 1038,\n",
       " 'answer': 'Juan Bautista de Toledo'}"
      ]
     },
     "execution_count": 4,
     "metadata": {},
     "output_type": "execute_result"
    }
   ],
   "source": [
    "res"
   ]
  },
  {
   "cell_type": "code",
   "execution_count": 9,
   "metadata": {},
   "outputs": [
    {
     "data": {
      "text/plain": [
       "{'score': 0.2246091663837433,\n",
       " 'start': 1447,\n",
       " 'end': 1515,\n",
       " 'answer': 'su tamaño y complejidad funcional como por su enorme valor simbólico'}"
      ]
     },
     "execution_count": 9,
     "metadata": {},
     "output_type": "execute_result"
    }
   ],
   "source": [
    "# otra pregunta\n",
    "QA_input = {\n",
    "    'question': '¿porque El Escorial es considerado la octava maravilla del mundo?',\n",
    "    'context': contexto\n",
    "}\n",
    "res = nlp(QA_input)\n",
    "res"
   ]
  }
 ],
 "metadata": {
  "kernelspec": {
   "display_name": "Python 3 (ipykernel)",
   "language": "python",
   "name": "python3"
  },
  "language_info": {
   "codemirror_mode": {
    "name": "ipython",
    "version": 3
   },
   "file_extension": ".py",
   "mimetype": "text/x-python",
   "name": "python",
   "nbconvert_exporter": "python",
   "pygments_lexer": "ipython3",
   "version": "3.10.13"
  },
  "varInspector": {
   "cols": {
    "lenName": 16,
    "lenType": 16,
    "lenVar": 40
   },
   "kernels_config": {
    "python": {
     "delete_cmd_postfix": "",
     "delete_cmd_prefix": "del ",
     "library": "var_list.py",
     "varRefreshCmd": "print(var_dic_list())"
    },
    "r": {
     "delete_cmd_postfix": ") ",
     "delete_cmd_prefix": "rm(",
     "library": "var_list.r",
     "varRefreshCmd": "cat(var_dic_list()) "
    }
   },
   "oldHeight": 122.855364,
   "position": {
    "height": "40px",
    "left": "893.636px",
    "right": "20px",
    "top": "120px",
    "width": "250px"
   },
   "types_to_exclude": [
    "module",
    "function",
    "builtin_function_or_method",
    "instance",
    "_Feature"
   ],
   "varInspector_section_display": "none",
   "window_display": true
  }
 },
 "nbformat": 4,
 "nbformat_minor": 4
}
